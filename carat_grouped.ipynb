{
 "cells": [
  {
   "cell_type": "markdown",
   "metadata": {},
   "source": [
    "# GRADIENT BOOSTING REGRESSOR\n",
    "Columnas usadas: carat, cut_num, color_num, clarity_num, x,y,z, depth, table\n",
    "Sin escalar"
   ]
  },
  {
   "cell_type": "code",
   "execution_count": 1,
   "metadata": {},
   "outputs": [],
   "source": [
    "import pandas as pd\n",
    "import matplotlib.pyplot as plt\n",
    "import seaborn as sns\n",
    "import numpy as np"
   ]
  },
  {
   "cell_type": "code",
   "execution_count": 2,
   "metadata": {},
   "outputs": [
    {
     "name": "stdout",
     "output_type": "stream",
     "text": [
      "<class 'pandas.core.frame.DataFrame'>\n",
      "RangeIndex: 40455 entries, 0 to 40454\n",
      "Data columns (total 10 columns):\n",
      " #   Column   Non-Null Count  Dtype  \n",
      "---  ------   --------------  -----  \n",
      " 0   carat    40455 non-null  float64\n",
      " 1   cut      40455 non-null  object \n",
      " 2   color    40455 non-null  object \n",
      " 3   clarity  40455 non-null  object \n",
      " 4   depth    40455 non-null  float64\n",
      " 5   table    40455 non-null  float64\n",
      " 6   price    40455 non-null  int64  \n",
      " 7   x        40455 non-null  float64\n",
      " 8   y        40455 non-null  float64\n",
      " 9   z        40455 non-null  float64\n",
      "dtypes: float64(6), int64(1), object(3)\n",
      "memory usage: 3.1+ MB\n"
     ]
    }
   ],
   "source": [
    "diamonds_train = pd.read_csv('data/diamonds_train.csv')\n",
    "diamonds_train.info()"
   ]
  },
  {
   "cell_type": "code",
   "execution_count": 3,
   "metadata": {},
   "outputs": [],
   "source": [
    "diamonds_predict = pd.read_csv('data/diamonds_test.csv')"
   ]
  },
  {
   "cell_type": "markdown",
   "metadata": {},
   "source": [
    "## GETTING RID OF 0 IN xyz"
   ]
  },
  {
   "cell_type": "markdown",
   "metadata": {},
   "source": [
    "### TRAIN"
   ]
  },
  {
   "cell_type": "code",
   "execution_count": 4,
   "metadata": {},
   "outputs": [
    {
     "data": {
      "text/plain": [
       "(40439, 10)"
      ]
     },
     "execution_count": 4,
     "metadata": {},
     "output_type": "execute_result"
    }
   ],
   "source": [
    "diamonds_train = diamonds_train[(diamonds_train['x'] != 0) & (diamonds_train['y'] != 0) & (diamonds_train['z'] != 0)]\n",
    "diamonds_train.shape"
   ]
  },
  {
   "cell_type": "markdown",
   "metadata": {},
   "source": [
    "### TEST"
   ]
  },
  {
   "cell_type": "markdown",
   "metadata": {},
   "source": [
    "Celda no ejecutada porque al eliminar rows en el csv de test, da fallo la submission"
   ]
  },
  {
   "cell_type": "markdown",
   "metadata": {},
   "source": [
    "diamonds_predict = diamonds_predict[(diamonds_predict['x'] != 0) & (diamonds_predict['y'] != 0) & (diamonds_predict['z'] != 0)]\n",
    "diamonds_predict.info()"
   ]
  },
  {
   "cell_type": "markdown",
   "metadata": {},
   "source": [
    "## GET RID OF OUTLIERS"
   ]
  },
  {
   "cell_type": "markdown",
   "metadata": {},
   "source": [
    "Tried with 75-25, not a good idea shape=(6465, 10), we gonna try with some less outliers"
   ]
  },
  {
   "cell_type": "code",
   "execution_count": 5,
   "metadata": {},
   "outputs": [
    {
     "data": {
      "text/plain": [
       "6"
      ]
     },
     "execution_count": 5,
     "metadata": {},
     "output_type": "execute_result"
    }
   ],
   "source": [
    " len(diamonds_train[diamonds_train[\"table\"]>70])"
   ]
  },
  {
   "cell_type": "code",
   "execution_count": 6,
   "metadata": {},
   "outputs": [],
   "source": [
    "# Hay un diamante con un depth de 79\n",
    "diamonds_train = diamonds_train[(diamonds_train[\"depth\"]<71) & (diamonds_train[\"depth\"]>54)]\n",
    "\n",
    "# Hay 3 mayores de 75 y dos menores de 45\n",
    "diamonds_train = diamonds_train[(diamonds_train[\"table\"]<70) & (diamonds_train[\"table\"]>52)]\n",
    "\n",
    "diamonds_train = diamonds_train[(diamonds_train[\"x\"]<10)] \n",
    "#solo dropeamos las que sean x<10 porque coincide con 'y' en sus dos únicos valores por encima de 10 y no dropeamos nada de z porque hay bastantes valores en torno a 6"
   ]
  },
  {
   "cell_type": "code",
   "execution_count": 7,
   "metadata": {},
   "outputs": [
    {
     "data": {
      "text/plain": [
       "(40345, 10)"
      ]
     },
     "execution_count": 7,
     "metadata": {},
     "output_type": "execute_result"
    }
   ],
   "source": [
    "diamonds_train.shape"
   ]
  },
  {
   "cell_type": "markdown",
   "metadata": {},
   "source": [
    "# ENCODING CATEGORIES"
   ]
  },
  {
   "cell_type": "markdown",
   "metadata": {},
   "source": [
    "## TRAIN"
   ]
  },
  {
   "cell_type": "code",
   "execution_count": 8,
   "metadata": {},
   "outputs": [],
   "source": [
    "cut_num = {'Ideal': 1, 'Premium': 2, 'Very Good': 3, 'Good': 4, 'Fair': 5}\n",
    "diamonds_train['cut_num'] = diamonds_train['cut'].replace(cut_num)"
   ]
  },
  {
   "cell_type": "code",
   "execution_count": 9,
   "metadata": {},
   "outputs": [],
   "source": [
    "color_num = {'D': 1, 'E': 2, 'F': 3, 'G': 4, 'H': 5, 'I': 6, 'J': 7}\n",
    "diamonds_train['color_num'] = diamonds_train['color'].replace(color_num)"
   ]
  },
  {
   "cell_type": "code",
   "execution_count": 10,
   "metadata": {},
   "outputs": [],
   "source": [
    "clarity_num = {'IF': 1, 'VVS1': 2, 'VVS2': 3, 'VS1': 4, 'VS2': 5, 'SI1': 6, 'SI2': 7, 'I1': 8}\n",
    "diamonds_train['clarity_num'] = diamonds_train['clarity'].replace(clarity_num)"
   ]
  },
  {
   "cell_type": "code",
   "execution_count": null,
   "metadata": {},
   "outputs": [],
   "source": []
  },
  {
   "cell_type": "markdown",
   "metadata": {},
   "source": [
    "## TEST CSV (nuestro diamonds_predict)"
   ]
  },
  {
   "cell_type": "code",
   "execution_count": 11,
   "metadata": {},
   "outputs": [],
   "source": [
    "cut_num = {'Ideal': 1, 'Premium': 2, 'Very Good': 3, 'Good': 4, 'Fair': 5}\n",
    "diamonds_predict['cut_num'] = diamonds_predict['cut'].replace(cut_num)\n",
    "color_num = {'D': 1, 'E': 2, 'F': 3, 'G': 4, 'H': 5, 'I': 6, 'J': 7}\n",
    "diamonds_predict['color_num'] = diamonds_predict['color'].replace(color_num)\n",
    "clarity_num = {'IF': 1, 'VVS1': 2, 'VVS2': 3, 'VS1': 4, 'VS2': 5, 'SI1': 6, 'SI2': 7, 'I1': 8}\n",
    "diamonds_predict['clarity_num'] = diamonds_predict['clarity'].replace(clarity_num)"
   ]
  },
  {
   "cell_type": "markdown",
   "metadata": {},
   "source": [
    "# FEATURE ENGINERING"
   ]
  },
  {
   "cell_type": "markdown",
   "metadata": {},
   "source": [
    "## Price/Carat\n",
    "Útil para el análisis, para ML No tiene sentido, pues usa la columna Target"
   ]
  },
  {
   "cell_type": "code",
   "execution_count": 12,
   "metadata": {},
   "outputs": [],
   "source": [
    "diamonds_train['price/carat']=diamonds_train['price']/diamonds_train['carat']"
   ]
  },
  {
   "cell_type": "code",
   "execution_count": 41,
   "metadata": {},
   "outputs": [
    {
     "data": {
      "text/plain": [
       "clarity\n",
       "I1      2787.088564\n",
       "IF      4218.128376\n",
       "SI1     3843.346228\n",
       "SI2     4024.958630\n",
       "VS1     4130.901159\n",
       "VS2     4074.601117\n",
       "VVS1    3884.151077\n",
       "VVS2    4177.365600\n",
       "Name: price/carat, dtype: float64"
      ]
     },
     "execution_count": 41,
     "metadata": {},
     "output_type": "execute_result"
    }
   ],
   "source": [
    "diamonds_train.groupby('clarity')['price/carat'].mean()"
   ]
  },
  {
   "cell_type": "markdown",
   "metadata": {},
   "source": [
    "## Carat Ranges"
   ]
  },
  {
   "cell_type": "code",
   "execution_count": 61,
   "metadata": {},
   "outputs": [
    {
     "name": "stdout",
     "output_type": "stream",
     "text": [
      "<class 'pandas.core.frame.DataFrame'>\n",
      "Int64Index: 40345 entries, 0 to 40454\n",
      "Data columns (total 15 columns):\n",
      " #   Column        Non-Null Count  Dtype  \n",
      "---  ------        --------------  -----  \n",
      " 0   carat         40345 non-null  float64\n",
      " 1   cut           40345 non-null  object \n",
      " 2   color         40345 non-null  object \n",
      " 3   clarity       40345 non-null  object \n",
      " 4   depth         40345 non-null  float64\n",
      " 5   table         40345 non-null  float64\n",
      " 6   price         40345 non-null  int64  \n",
      " 7   x             40345 non-null  float64\n",
      " 8   y             40345 non-null  float64\n",
      " 9   z             40345 non-null  float64\n",
      " 10  cut_num       40345 non-null  int64  \n",
      " 11  color_num     40345 non-null  int64  \n",
      " 12  clarity_num   40345 non-null  int64  \n",
      " 13  price/carat   40345 non-null  float64\n",
      " 14  carat_groups  40345 non-null  object \n",
      "dtypes: float64(7), int64(4), object(4)\n",
      "memory usage: 6.2+ MB\n"
     ]
    }
   ],
   "source": [
    "carat_groups = []\n",
    "for i in diamonds_train['carat']:\n",
    "    if i< 1:\n",
    "        carat_groups.append('light')\n",
    "    elif i >= 1:\n",
    "        carat_groups.append('medium')\n",
    "    elif i>=2:\n",
    "        carat_groups.append('heavy')\n",
    "diamonds_train['carat_groups'] = carat_groups\n",
    "diamonds_train.info()"
   ]
  },
  {
   "cell_type": "markdown",
   "metadata": {},
   "source": [
    "### Test"
   ]
  },
  {
   "cell_type": "code",
   "execution_count": 59,
   "metadata": {},
   "outputs": [],
   "source": [
    "carat_groups = []\n",
    "for i in diamonds_predict['carat']:\n",
    "    if i< 1:\n",
    "        carat_groups.append('light')\n",
    "    elif i >= 1:\n",
    "        carat_groups.append('medium')\n",
    "    elif i>=2:\n",
    "        carat_groups.append('heavy')\n",
    "diamonds_predict['carat_groups'] = carat_groups"
   ]
  },
  {
   "cell_type": "code",
   "execution_count": null,
   "metadata": {},
   "outputs": [],
   "source": []
  },
  {
   "cell_type": "code",
   "execution_count": 78,
   "metadata": {},
   "outputs": [],
   "source": [
    "carat_num = {'heavy': 1, 'medium': 2, 'light': 3}\n",
    "diamonds_train['carat_num'] = diamonds_train['carat_groups'].replace(carat_num)\n",
    "diamonds_predict['carat_num'] = diamonds_predict['carat_groups'].replace(carat_num)"
   ]
  },
  {
   "cell_type": "code",
   "execution_count": 79,
   "metadata": {},
   "outputs": [
    {
     "data": {
      "text/plain": [
       "0        2\n",
       "1        3\n",
       "2        3\n",
       "3        3\n",
       "4        2\n",
       "        ..\n",
       "40450    2\n",
       "40451    2\n",
       "40452    2\n",
       "40453    3\n",
       "40454    2\n",
       "Name: carat_num, Length: 40345, dtype: int64"
      ]
     },
     "execution_count": 79,
     "metadata": {},
     "output_type": "execute_result"
    }
   ],
   "source": [
    "diamonds_train['carat_num']"
   ]
  },
  {
   "cell_type": "markdown",
   "metadata": {},
   "source": [
    "## HEATMAP"
   ]
  },
  {
   "cell_type": "markdown",
   "metadata": {},
   "source": [
    "Depth & cut no están muy relacionados con el precio"
   ]
  },
  {
   "cell_type": "code",
   "execution_count": 80,
   "metadata": {},
   "outputs": [
    {
     "data": {
      "text/plain": [
       "<AxesSubplot:>"
      ]
     },
     "execution_count": 80,
     "metadata": {},
     "output_type": "execute_result"
    },
    {
     "data": {
      "image/png": "[encoded data removed]",
      "text/plain": [
       "<Figure size 864x864 with 2 Axes>"
      ]
     },
     "metadata": {
      "needs_background": "light"
     },
     "output_type": "display_data"
    }
   ],
   "source": [
    "plt.figure(figsize=(12,12))\n",
    "corr = diamonds_train.corr()\n",
    "sns.heatmap(data=corr, annot=True, cbar=True)"
   ]
  },
  {
   "cell_type": "code",
   "execution_count": null,
   "metadata": {},
   "outputs": [],
   "source": []
  },
  {
   "cell_type": "markdown",
   "metadata": {},
   "source": [
    "# ESCALAR"
   ]
  },
  {
   "cell_type": "code",
   "execution_count": 81,
   "metadata": {},
   "outputs": [],
   "source": [
    "#cat_features = ['cut', 'color', 'clarity']\n",
    "features = ['carat', 'table', 'depth', 'x', 'y', 'z', 'cut_num', 'color_num', 'clarity_num', 'carat_num']\n",
    "#predict_feat = ['id','carat', 'table', 'depth', 'x', 'y', 'z', 'cut_num', 'color_num', 'clarity_num']\n",
    "target = 'price'"
   ]
  },
  {
   "cell_type": "markdown",
   "metadata": {},
   "source": [
    "### TRAIN"
   ]
  },
  {
   "cell_type": "code",
   "execution_count": 16,
   "metadata": {},
   "outputs": [],
   "source": [
    "#from sklearn.preprocessing import StandardScaler"
   ]
  },
  {
   "cell_type": "code",
   "execution_count": 18,
   "metadata": {},
   "outputs": [],
   "source": [
    "#scaler = StandardScaler()"
   ]
  },
  {
   "cell_type": "code",
   "execution_count": 19,
   "metadata": {},
   "outputs": [],
   "source": [
    "#X = scaler.fit_transform(diamonds_train[features])\n",
    "#y = diamonds_train[target]"
   ]
  },
  {
   "cell_type": "markdown",
   "metadata": {},
   "source": [
    "### TEST CSV (PREDICT)"
   ]
  },
  {
   "cell_type": "code",
   "execution_count": 20,
   "metadata": {},
   "outputs": [],
   "source": [
    "#X_pred = scaler.fit_transform(diamonds_predict[features])"
   ]
  },
  {
   "cell_type": "markdown",
   "metadata": {},
   "source": [
    "# TRAIN-TEST-SPLIT"
   ]
  },
  {
   "cell_type": "code",
   "execution_count": 82,
   "metadata": {},
   "outputs": [],
   "source": [
    "from sklearn.model_selection import train_test_split "
   ]
  },
  {
   "cell_type": "code",
   "execution_count": 83,
   "metadata": {},
   "outputs": [],
   "source": [
    "X = diamonds_train[features]\n",
    "y = diamonds_train[target]"
   ]
  },
  {
   "cell_type": "code",
   "execution_count": 84,
   "metadata": {},
   "outputs": [],
   "source": [
    "X_train, X_test, y_train, y_test = train_test_split(X, y,test_size=0.25, random_state=42)"
   ]
  },
  {
   "cell_type": "code",
   "execution_count": null,
   "metadata": {},
   "outputs": [],
   "source": []
  },
  {
   "cell_type": "markdown",
   "metadata": {},
   "source": [
    "### TEST"
   ]
  },
  {
   "cell_type": "code",
   "execution_count": null,
   "metadata": {},
   "outputs": [],
   "source": []
  },
  {
   "cell_type": "markdown",
   "metadata": {},
   "source": [
    "# MODELS"
   ]
  },
  {
   "cell_type": "code",
   "execution_count": 85,
   "metadata": {},
   "outputs": [],
   "source": [
    "from sklearn.ensemble import RandomForestRegressor, GradientBoostingRegressor\n",
    "from sklearn.tree import DecisionTreeRegressor\n",
    "from sklearn.metrics import mean_squared_error, mean_absolute_error\n",
    "from sklearn.model_selection import cross_val_score"
   ]
  },
  {
   "cell_type": "markdown",
   "metadata": {},
   "source": [
    "## 1. RANDOM FOREST"
   ]
  },
  {
   "cell_type": "code",
   "execution_count": 86,
   "metadata": {},
   "outputs": [],
   "source": [
    "rfr_model = RandomForestRegressor()"
   ]
  },
  {
   "cell_type": "code",
   "execution_count": 87,
   "metadata": {},
   "outputs": [
    {
     "data": {
      "text/plain": [
       "RandomForestRegressor()"
      ]
     },
     "execution_count": 87,
     "metadata": {},
     "output_type": "execute_result"
    }
   ],
   "source": [
    "rfr_model.fit(X_train, y_train)"
   ]
  },
  {
   "cell_type": "code",
   "execution_count": 88,
   "metadata": {},
   "outputs": [],
   "source": [
    "y_pred = rfr_model.predict(X_test)"
   ]
  },
  {
   "cell_type": "code",
   "execution_count": 89,
   "metadata": {},
   "outputs": [
    {
     "name": "stderr",
     "output_type": "stream",
     "text": [
      "[Parallel(n_jobs=1)]: Using backend SequentialBackend with 1 concurrent workers.\n",
      "[Parallel(n_jobs=1)]: Done   5 out of   5 | elapsed:   43.4s finished\n"
     ]
    },
    {
     "name": "stdout",
     "output_type": "stream",
     "text": [
      "Cross validation score : 0.9814\n",
      "[0.98189592 0.98040328 0.98109029 0.97864178 0.98061774]\n",
      "mae: 271.085432\n",
      "R2: 1.000000\n",
      "mse: 297098.505676\n",
      "rmse: 545.067432\n"
     ]
    }
   ],
   "source": [
    "cv_score = cross_val_score(estimator=rfr_model, X=X_train, y=y_train, cv=5,verbose = 1)\n",
    "print('Cross validation score : %.4f' % rfr_model.score(X_test, y_test))\n",
    "print(cv_score)\n",
    "mae = mean_absolute_error(y_test,y_pred)\n",
    "print(\"mae: %f\" %(mae))\n",
    "r2 = rfr_model.score(X_test,y_pred)\n",
    "print(\"R2: %f\" %(r2))\n",
    "mse = mean_squared_error(y_test,y_pred)\n",
    "print(\"mse: %f\" %(mse))\n",
    "rmse = (mean_squared_error(y_test,y_pred))**0.5\n",
    "print(\"rmse: %f\" %(rmse))"
   ]
  },
  {
   "cell_type": "code",
   "execution_count": null,
   "metadata": {},
   "outputs": [],
   "source": [
    "## Resultado con menor borrado de outliers\n",
    "\"\"\" Cross validation score : 0.9802\n",
    "[0.98126694 0.97996946 0.98019617 0.97966395 0.98139158]\n",
    "mae: 276.100062\n",
    "R2: 1.000000\n",
    "mse: 319233.146818\n",
    "rmse: 565.007210\n",
    "\"\"\""
   ]
  },
  {
   "cell_type": "code",
   "execution_count": null,
   "metadata": {},
   "outputs": [],
   "source": [
    "#crossval_score = cross_val_score(rfr_model, X_train, y_train, cv=10)\n",
    "#print(cross_val_score)"
   ]
  },
  {
   "cell_type": "code",
   "execution_count": null,
   "metadata": {},
   "outputs": [],
   "source": []
  },
  {
   "cell_type": "markdown",
   "metadata": {},
   "source": [
    "## 2. DECISION TREE"
   ]
  },
  {
   "cell_type": "code",
   "execution_count": 24,
   "metadata": {},
   "outputs": [],
   "source": [
    "dtr_model = DecisionTreeRegressor(random_state = 0) #rstate=0 porque los resultados son mejores que sin poner nada o poniendo 1\n",
    "dtr_model.fit(X_train, y_train)\n",
    "y_pred = dtr_model.predict(X_test)"
   ]
  },
  {
   "cell_type": "code",
   "execution_count": 25,
   "metadata": {},
   "outputs": [
    {
     "name": "stderr",
     "output_type": "stream",
     "text": [
      "[Parallel(n_jobs=1)]: Using backend SequentialBackend with 1 concurrent workers.\n"
     ]
    },
    {
     "name": "stdout",
     "output_type": "stream",
     "text": [
      "Cross validation score : 0.9991\n",
      "[0.99872145 0.99932889 0.99921568 0.99928827 0.99885487 0.99867995\n",
      " 0.99925284 0.99811001 0.99920388 0.99944123]\n",
      "mae: 36.373649\n",
      "R2: 1.000000\n",
      "mse: 13889.816100\n",
      "rmse: 117.855064\n"
     ]
    },
    {
     "name": "stderr",
     "output_type": "stream",
     "text": [
      "[Parallel(n_jobs=1)]: Done  10 out of  10 | elapsed:    1.8s finished\n"
     ]
    }
   ],
   "source": [
    "cv_score = cross_val_score(estimator=dtr_model, X=X_train, y=y_train, cv=10,verbose = 1)\n",
    "print('Cross validation score : %.4f' % dtr_model.score(X_test, y_test))\n",
    "print(cv_score)\n",
    "mae = mean_absolute_error(y_test,y_pred)\n",
    "print(\"mae: %f\" %(mae))\n",
    "r2 = dtr_model.score(X_test,y_pred)\n",
    "print(\"R2: %f\" %(r2))\n",
    "mse = mean_squared_error(y_test,y_pred)\n",
    "print(\"mse: %f\" %(mse))\n",
    "rmse = (mean_squared_error(y_test,y_pred))**0.5\n",
    "print(\"rmse: %f\" %(rmse))\n"
   ]
  },
  {
   "cell_type": "code",
   "execution_count": null,
   "metadata": {},
   "outputs": [],
   "source": [
    "\"\"\"\n",
    "Cross validation score : 0.96\n",
    "[0.96471869 0.96286045 0.96237324 0.96244763 0.96538262]\n",
    "mae: 369.804442\n",
    "R2: 1.000000\n",
    "mse: 570145.458766\n",
    "rmse: 755.079770\n",
    "\"\"\""
   ]
  },
  {
   "cell_type": "markdown",
   "metadata": {},
   "source": [
    "mae = mean_absolute_error(y_test,y_pred)\n",
    "print(\"mae: %f\" %(mae))\n",
    "r2 = rfr_model.score(X_test,y_test)\n",
    "print(\"R2: %f\" %(r2))\n",
    "mse = mean_squared_error(y_test,y_pred)\n",
    "print(\"mse: %f\" %(mse))\n",
    "rmse = (mean_squared_error(y_test,y_pred))**0.5\n",
    "print(\"rmse: %f\" %(rmse))\n",
    "\n",
    "RESULTADOS SIN CAMBIAR RANDOM STATE:, con random state = 0, mejora\n",
    "mae: 372.840853\n",
    "R2: 0.980116\n",
    "mse: 579384.121723\n",
    "rmse: 761.172859"
   ]
  },
  {
   "cell_type": "markdown",
   "metadata": {},
   "source": [
    "## 3. GRADIENT BOOSTING"
   ]
  },
  {
   "cell_type": "code",
   "execution_count": 90,
   "metadata": {},
   "outputs": [],
   "source": [
    "gbr_model = GradientBoostingRegressor(n_estimators=100, learning_rate=0.1, max_depth=8, random_state=0, loss='ls',verbose = 1)\n",
    "#max_depth 1, mal, 2, mal, 4 ok (553 rmse), 8 ok (542)"
   ]
  },
  {
   "cell_type": "code",
   "execution_count": 91,
   "metadata": {},
   "outputs": [
    {
     "name": "stdout",
     "output_type": "stream",
     "text": [
      "      Iter       Train Loss   Remaining Time \n",
      "         1    12936727.5590           10.45s\n",
      "         2    10556043.6099            9.40s\n",
      "         3     8624076.6971            9.05s\n",
      "         4     7056892.5820            8.42s\n",
      "         5     5783187.6160            8.00s\n",
      "         6     4749749.8246            7.72s\n",
      "         7     3907469.2639            7.59s\n",
      "         8     3225038.8779            7.37s\n",
      "         9     2668253.5362            7.22s\n",
      "        10     2214853.1737            7.15s\n",
      "        20      476349.6441            6.14s\n",
      "        30      228434.9463            5.32s\n",
      "        40      171599.4664            4.55s\n",
      "        50      148657.9043            3.88s\n",
      "        60      134342.5004            3.24s\n",
      "        70      122895.3753            2.50s\n",
      "        80      113224.3953            1.68s\n",
      "        90      105505.2592            0.84s\n",
      "       100       99189.5698            0.00s\n"
     ]
    }
   ],
   "source": [
    "gbr_model.fit(X_train , y_train)\n",
    "y_pred = gbr_model.predict(X_test)"
   ]
  },
  {
   "cell_type": "code",
   "execution_count": 92,
   "metadata": {},
   "outputs": [
    {
     "name": "stderr",
     "output_type": "stream",
     "text": [
      "[Parallel(n_jobs=1)]: Using backend SequentialBackend with 1 concurrent workers.\n"
     ]
    },
    {
     "name": "stdout",
     "output_type": "stream",
     "text": [
      "      Iter       Train Loss   Remaining Time \n",
      "         1    12874689.3122            8.07s\n",
      "         2    10506736.2321            8.76s\n",
      "         3     8584152.2056            8.40s\n",
      "         4     7023146.9189            7.83s\n",
      "         5     5753361.8718            7.27s\n",
      "         6     4724132.6101            6.89s\n",
      "         7     3887608.1564            6.74s\n",
      "         8     3207435.7191            6.49s\n",
      "         9     2652586.8197            6.27s\n",
      "        10     2203291.5442            6.09s\n",
      "        20      465613.9292            5.04s\n",
      "        30      216646.8615            4.30s\n",
      "        40      162405.2721            3.66s\n",
      "        50      137927.7255            3.06s\n",
      "        60      124202.9341            2.44s\n",
      "        70      112680.5615            1.83s\n",
      "        80      102444.7207            1.22s\n",
      "        90       95297.8569            0.61s\n",
      "       100       90035.7783            0.00s\n",
      "      Iter       Train Loss   Remaining Time \n",
      "         1    12959314.5669            5.51s\n",
      "         2    10577924.3508            5.48s\n",
      "         3     8643961.1155            5.46s\n",
      "         4     7070312.2342            5.71s\n",
      "         5     5795120.0201            5.61s\n",
      "         6     4755902.0855            5.51s\n",
      "         7     3912414.0364            5.66s\n",
      "         8     3225360.9237            5.58s\n",
      "         9     2668695.1177            5.48s\n",
      "        10     2214302.5979            5.39s\n",
      "        20      466803.4755            4.73s\n",
      "        30      216289.2714            4.11s\n",
      "        40      159621.4187            3.52s\n",
      "        50      138648.2082            2.95s\n",
      "        60      123520.0584            2.37s\n",
      "        70      108666.8198            1.83s\n",
      "        80       99916.6756            1.26s\n",
      "        90       93374.9298            0.64s\n",
      "       100       87448.0325            0.00s\n",
      "      Iter       Train Loss   Remaining Time \n",
      "         1    12991160.1727            5.59s\n",
      "         2    10600089.2886            5.56s\n",
      "         3     8659607.7080            5.54s\n",
      "         4     7081086.0207            5.69s\n",
      "         5     5801084.4599            5.59s\n",
      "         6     4762536.3146            5.51s\n",
      "         7     3915257.4282            5.76s\n",
      "         8     3228248.6371            6.07s\n",
      "         9     2671263.1736            6.41s\n",
      "        10     2216637.0144            6.62s\n",
      "        20      467211.8404            5.86s\n",
      "        30      215541.2134            5.27s\n",
      "        40      160667.7956            4.29s\n",
      "        50      136063.5669            3.46s\n",
      "        60      121100.9069            2.72s\n",
      "        70      110020.0622            2.02s\n",
      "        80      100384.7182            1.33s\n",
      "        90       91253.8370            0.66s\n",
      "       100       86037.8595            0.00s\n",
      "      Iter       Train Loss   Remaining Time \n",
      "         1    12934639.9310            5.70s\n",
      "         2    10553084.5675            5.63s\n",
      "         3     8618601.3622            5.60s\n",
      "         4     7049814.3425            5.83s\n",
      "         5     5774711.8505            5.73s\n",
      "         6     4741000.1947            5.63s\n",
      "         7     3900497.8615            5.79s\n",
      "         8     3217866.7478            5.68s\n",
      "         9     2660194.2618            5.57s\n",
      "        10     2208288.3245            5.48s\n",
      "        20      464738.8379            4.83s\n",
      "        30      215322.1155            4.18s\n",
      "        40      159487.7838            3.59s\n",
      "        50      136303.1746            3.18s\n",
      "        60      119629.9753            2.54s\n",
      "        70      109400.2897            1.90s\n",
      "        80       99650.6510            1.27s\n",
      "        90       92764.1393            0.63s\n",
      "       100       87451.2949            0.00s\n",
      "      Iter       Train Loss   Remaining Time \n",
      "         1    12920190.6254            5.74s\n",
      "         2    10542315.0111            5.66s\n",
      "         3     8611751.9899            5.64s\n",
      "         4     7043827.7376            5.85s\n",
      "         5     5769102.2211            5.74s\n",
      "         6     4734726.2427            5.65s\n",
      "         7     3893493.0735            5.82s\n",
      "         8     3209703.2453            5.71s\n",
      "         9     2654704.0358            5.60s\n",
      "        10     2204628.1945            5.50s\n",
      "        20      467692.2539            4.82s\n",
      "        30      217437.5265            4.24s\n",
      "        40      161592.2468            3.64s\n",
      "        50      138234.8105            3.02s\n",
      "        60      122376.1290            2.41s\n",
      "        70      109824.8646            1.82s\n",
      "        80       99724.0239            1.22s\n",
      "        90       92478.6951            0.62s\n",
      "       100       88101.1473            0.00s\n"
     ]
    },
    {
     "name": "stderr",
     "output_type": "stream",
     "text": [
      "[Parallel(n_jobs=1)]: Done   5 out of   5 | elapsed:   32.0s finished\n"
     ]
    },
    {
     "name": "stdout",
     "output_type": "stream",
     "text": [
      "Cross validation score : 0.9814\n",
      "[0.98258028 0.98134553 0.98237519 0.97870115 0.98103695]\n",
      "mae: 267.997498\n",
      "R2: 1.000000\n",
      "mse: 286748.612795\n",
      "rmse: 535.489134\n"
     ]
    }
   ],
   "source": [
    "cv_score = cross_val_score(estimator=gbr_model, X=X_train, y=y_train, cv=5,verbose = 1)\n",
    "print('Cross validation score : %.4f' % rfr_model.score(X_test, y_test))\n",
    "print(cv_score)\n",
    "mae = mean_absolute_error(y_test, y_pred)\n",
    "print(\"mae: %f\" %(mae))\n",
    "r2 = gbr_model.score(X_test,y_pred)\n",
    "print(\"R2: %f\" %(r2))\n",
    "mse = mean_squared_error(y_test, y_pred)\n",
    "print(\"mse: %f\" %(mse))\n",
    "rmse = (mean_squared_error(y_test, y_pred))**0.5\n",
    "print(\"rmse: %f\" %(rmse))"
   ]
  },
  {
   "cell_type": "code",
   "execution_count": null,
   "metadata": {},
   "outputs": [],
   "source": [
    "\"\"\"\n",
    "Cross validation score : 0.9815\n",
    "[0.98252068 0.98130918 0.98244676 0.97857692 0.98098148]\n",
    "mae: 268.266150\n",
    "R2: 1.000000\n",
    "mse: 287796.842194\n",
    "rmse: 536.467000\n",
    "\"\"\""
   ]
  },
  {
   "cell_type": "markdown",
   "metadata": {},
   "source": [
    "## LIGHT GBM"
   ]
  },
  {
   "cell_type": "code",
   "execution_count": 93,
   "metadata": {},
   "outputs": [],
   "source": [
    "from sklearn.experimental import enable_hist_gradient_boosting\n",
    "from sklearn.ensemble import HistGradientBoostingRegressor"
   ]
  },
  {
   "cell_type": "code",
   "execution_count": 94,
   "metadata": {},
   "outputs": [],
   "source": [
    "hgbr_model = HistGradientBoostingRegressor()"
   ]
  },
  {
   "cell_type": "code",
   "execution_count": 95,
   "metadata": {},
   "outputs": [],
   "source": [
    "hgbr_model.fit(X_train, y_train)\n",
    "y_pred = hgbr_model.predict(X_test)"
   ]
  },
  {
   "cell_type": "code",
   "execution_count": 96,
   "metadata": {},
   "outputs": [
    {
     "name": "stderr",
     "output_type": "stream",
     "text": [
      "[Parallel(n_jobs=1)]: Using backend SequentialBackend with 1 concurrent workers.\n"
     ]
    },
    {
     "name": "stdout",
     "output_type": "stream",
     "text": [
      "Cross validation score : 0.9821\n",
      "[0.98256212 0.981837   0.9828018  0.97995788 0.98185289]\n",
      "mae: 282.707020\n",
      "R2: 1.0000\n",
      "mse: 286094.316393\n",
      "rmse: 534.877852\n"
     ]
    },
    {
     "name": "stderr",
     "output_type": "stream",
     "text": [
      "[Parallel(n_jobs=1)]: Done   5 out of   5 | elapsed:    3.7s finished\n"
     ]
    }
   ],
   "source": [
    "cv_score = cross_val_score(estimator=hgbr_model, X=X_train, y=y_train, cv=5,verbose = 1)\n",
    "print('Cross validation score : %.4f' % hgbr_model.score(X_test, y_test))\n",
    "print(cv_score)\n",
    "mae = mean_absolute_error(y_test, y_pred)\n",
    "print(\"mae: %f\" %(mae))\n",
    "r2 = hgbr_model.score(X_test,y_pred)\n",
    "print(\"R2: %.4f\" %(r2))\n",
    "mse = mean_squared_error(y_test, y_pred)\n",
    "print(\"mse: %f\" %(mse))\n",
    "rmse = (mean_squared_error(y_test, y_pred))**0.5\n",
    "print(\"rmse: %f\" %(rmse))"
   ]
  },
  {
   "cell_type": "code",
   "execution_count": null,
   "metadata": {},
   "outputs": [],
   "source": [
    "\"\"\" Cross validation score : 0.9822\n",
    "[0.98270454 0.98172722 0.98241903 0.97935203 0.9816655 ]\n",
    "mae: 280.066804\n",
    "R2: 1.0000\n",
    "mse: 284251.192566\n",
    "rmse: 533.152129\n",
    "\"\"\""
   ]
  },
  {
   "cell_type": "markdown",
   "metadata": {},
   "source": [
    "# ERROR METRICS"
   ]
  },
  {
   "cell_type": "markdown",
   "metadata": {},
   "source": [
    "### MAE"
   ]
  },
  {
   "cell_type": "code",
   "execution_count": null,
   "metadata": {},
   "outputs": [],
   "source": [
    "mae = mean_absolute_error(Y_test,y_pred)\n",
    "print(\"mae: %f\" %(mae))"
   ]
  },
  {
   "cell_type": "markdown",
   "metadata": {},
   "source": [
    "### RMSE"
   ]
  },
  {
   "cell_type": "code",
   "execution_count": null,
   "metadata": {},
   "outputs": [],
   "source": [
    "rmse = (mean_squared_error(Y_test,y_pred))**0.5\n",
    "print(\"rmse: %f\" %(rmse))"
   ]
  },
  {
   "cell_type": "markdown",
   "metadata": {},
   "source": [
    "### R2"
   ]
  },
  {
   "cell_type": "code",
   "execution_count": null,
   "metadata": {},
   "outputs": [],
   "source": [
    "Rsquare=regressor.score(X_test,Y_test)\n",
    "print(\"Rsquare: %f\" %(Rsquare))"
   ]
  },
  {
   "cell_type": "markdown",
   "metadata": {},
   "source": [
    "## PREDICTION"
   ]
  },
  {
   "cell_type": "code",
   "execution_count": 97,
   "metadata": {},
   "outputs": [],
   "source": [
    "X_predict = diamonds_predict[features] # X_predict = X_pred if scaled\n",
    "predictions = gbr_model.predict(X_predict)\n",
    "diamonds_id = diamonds_predict['id']"
   ]
  },
  {
   "cell_type": "code",
   "execution_count": null,
   "metadata": {},
   "outputs": [],
   "source": []
  },
  {
   "cell_type": "code",
   "execution_count": null,
   "metadata": {},
   "outputs": [],
   "source": []
  },
  {
   "cell_type": "code",
   "execution_count": null,
   "metadata": {},
   "outputs": [],
   "source": []
  },
  {
   "cell_type": "code",
   "execution_count": null,
   "metadata": {},
   "outputs": [],
   "source": []
  },
  {
   "cell_type": "markdown",
   "metadata": {},
   "source": [
    "# GENERAR DF"
   ]
  },
  {
   "cell_type": "code",
   "execution_count": 98,
   "metadata": {},
   "outputs": [],
   "source": [
    "submission = pd.DataFrame({'id': diamonds_id, 'price': predictions})"
   ]
  },
  {
   "cell_type": "code",
   "execution_count": 99,
   "metadata": {},
   "outputs": [
    {
     "data": {
      "text/plain": [
       "(13485, 2)"
      ]
     },
     "execution_count": 99,
     "metadata": {},
     "output_type": "execute_result"
    }
   ],
   "source": [
    "submission.shape"
   ]
  },
  {
   "cell_type": "code",
   "execution_count": 100,
   "metadata": {},
   "outputs": [],
   "source": [
    "submission.to_csv('submission.csv', index=False)"
   ]
  }
 ],
 "metadata": {
  "kernelspec": {
   "display_name": "Python [conda env:ironhack_env]",
   "language": "python",
   "name": "conda-env-ironhack_env-py"
  },
  "language_info": {
   "codemirror_mode": {
    "name": "ipython",
    "version": 3
   },
   "file_extension": ".py",
   "mimetype": "text/x-python",
   "name": "python",
   "nbconvert_exporter": "python",
   "pygments_lexer": "ipython3",
   "version": "3.8.5"
  }
 },
 "nbformat": 4,
 "nbformat_minor": 4
}
