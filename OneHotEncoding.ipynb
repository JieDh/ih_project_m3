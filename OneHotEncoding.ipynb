{
 "cells": [
  {
   "cell_type": "markdown",
   "metadata": {},
   "source": [
    "# GRADIENT BOOSTING REGRESSOR\n",
    "Columnas usadas: carat, cut_num, color_num, clarity_num, x,y,z, depth, table\n",
    "Sin escalar"
   ]
  },
  {
   "cell_type": "code",
   "execution_count": 51,
   "metadata": {},
   "outputs": [],
   "source": [
    "import pandas as pd\n",
    "import matplotlib.pyplot as plt\n",
    "import seaborn as sns\n",
    "import numpy as np"
   ]
  },
  {
   "cell_type": "code",
   "execution_count": 52,
   "metadata": {},
   "outputs": [
    {
     "name": "stdout",
     "output_type": "stream",
     "text": [
      "<class 'pandas.core.frame.DataFrame'>\n",
      "RangeIndex: 40455 entries, 0 to 40454\n",
      "Data columns (total 10 columns):\n",
      " #   Column   Non-Null Count  Dtype  \n",
      "---  ------   --------------  -----  \n",
      " 0   carat    40455 non-null  float64\n",
      " 1   cut      40455 non-null  object \n",
      " 2   color    40455 non-null  object \n",
      " 3   clarity  40455 non-null  object \n",
      " 4   depth    40455 non-null  float64\n",
      " 5   table    40455 non-null  float64\n",
      " 6   price    40455 non-null  int64  \n",
      " 7   x        40455 non-null  float64\n",
      " 8   y        40455 non-null  float64\n",
      " 9   z        40455 non-null  float64\n",
      "dtypes: float64(6), int64(1), object(3)\n",
      "memory usage: 3.1+ MB\n"
     ]
    }
   ],
   "source": [
    "diamonds_train = pd.read_csv('data/diamonds_train.csv')\n",
    "diamonds_train.info()"
   ]
  },
  {
   "cell_type": "code",
   "execution_count": 53,
   "metadata": {},
   "outputs": [],
   "source": [
    "diamonds_predict = pd.read_csv('data/diamonds_test.csv')"
   ]
  },
  {
   "cell_type": "markdown",
   "metadata": {},
   "source": [
    "## GETTING RID OF 0 IN xyz"
   ]
  },
  {
   "cell_type": "markdown",
   "metadata": {},
   "source": [
    "### TRAIN"
   ]
  },
  {
   "cell_type": "code",
   "execution_count": 54,
   "metadata": {},
   "outputs": [
    {
     "data": {
      "text/plain": [
       "(40439, 10)"
      ]
     },
     "execution_count": 54,
     "metadata": {},
     "output_type": "execute_result"
    }
   ],
   "source": [
    "diamonds_train = diamonds_train[(diamonds_train['x'] != 0) & (diamonds_train['y'] != 0) & (diamonds_train['z'] != 0)]\n",
    "diamonds_train.shape"
   ]
  },
  {
   "cell_type": "markdown",
   "metadata": {},
   "source": [
    "### TEST"
   ]
  },
  {
   "cell_type": "markdown",
   "metadata": {},
   "source": [
    "Celda no ejecutada porque al eliminar rows en el csv de test, da fallo la submission"
   ]
  },
  {
   "cell_type": "markdown",
   "metadata": {},
   "source": [
    "diamonds_predict = diamonds_predict[(diamonds_predict['x'] != 0) & (diamonds_predict['y'] != 0) & (diamonds_predict['z'] != 0)]\n",
    "diamonds_predict.info()"
   ]
  },
  {
   "cell_type": "markdown",
   "metadata": {},
   "source": [
    "## GET RID OF OUTLIERS"
   ]
  },
  {
   "cell_type": "markdown",
   "metadata": {},
   "source": [
    "Tried with 75-25, not a good idea shape=(6465, 10), we gonna try with some less outliers"
   ]
  },
  {
   "cell_type": "code",
   "execution_count": 55,
   "metadata": {},
   "outputs": [],
   "source": [
    "# Hay un diamante con un depth de 79\n",
    "diamonds_train = diamonds_train[(diamonds_train[\"depth\"]<71) & (diamonds_train[\"depth\"]>54)]\n",
    "\n",
    "# Hay 3 mayores de 75 y dos menores de 45\n",
    "diamonds_train = diamonds_train[(diamonds_train[\"table\"]<70) & (diamonds_train[\"table\"]>52)]\n",
    "\n",
    "diamonds_train = diamonds_train[(diamonds_train[\"x\"]<10)] \n",
    "#solo dropeamos las que sean x<10 porque coincide con 'y' en sus dos únicos valores por encima de 10 y no dropeamos nada de z porque hay bastantes valores en torno a 6"
   ]
  },
  {
   "cell_type": "code",
   "execution_count": 56,
   "metadata": {},
   "outputs": [
    {
     "data": {
      "text/plain": [
       "(40345, 10)"
      ]
     },
     "execution_count": 56,
     "metadata": {},
     "output_type": "execute_result"
    }
   ],
   "source": [
    "diamonds_train.shape"
   ]
  },
  {
   "cell_type": "code",
   "execution_count": null,
   "metadata": {},
   "outputs": [],
   "source": []
  },
  {
   "cell_type": "code",
   "execution_count": 57,
   "metadata": {},
   "outputs": [],
   "source": [
    "import numpy as np\n",
    "diamonds_train[\"carat_cat\"] = np.ceil(diamonds_train[\"carat\"] / 0.4)\n",
    "diamonds_train[\"carat_cat\"].where(diamonds_train[\"carat_cat\"] < 5, 5.0, inplace = True)"
   ]
  },
  {
   "cell_type": "code",
   "execution_count": 58,
   "metadata": {},
   "outputs": [
    {
     "data": {
      "text/plain": [
       "0        4.0\n",
       "1        1.0\n",
       "2        2.0\n",
       "3        2.0\n",
       "4        3.0\n",
       "        ... \n",
       "40450    4.0\n",
       "40451    5.0\n",
       "40452    3.0\n",
       "40453    1.0\n",
       "40454    4.0\n",
       "Name: carat_cat, Length: 40345, dtype: float64"
      ]
     },
     "execution_count": 58,
     "metadata": {},
     "output_type": "execute_result"
    }
   ],
   "source": [
    "diamonds_train['carat_cat']"
   ]
  },
  {
   "cell_type": "code",
   "execution_count": null,
   "metadata": {},
   "outputs": [],
   "source": []
  },
  {
   "cell_type": "code",
   "execution_count": null,
   "metadata": {},
   "outputs": [],
   "source": []
  },
  {
   "cell_type": "code",
   "execution_count": null,
   "metadata": {},
   "outputs": [],
   "source": []
  },
  {
   "cell_type": "code",
   "execution_count": null,
   "metadata": {},
   "outputs": [],
   "source": []
  },
  {
   "cell_type": "markdown",
   "metadata": {},
   "source": [
    "# ENCODING CATEGORIES"
   ]
  },
  {
   "cell_type": "markdown",
   "metadata": {},
   "source": [
    "## TRAIN"
   ]
  },
  {
   "cell_type": "code",
   "execution_count": 59,
   "metadata": {},
   "outputs": [],
   "source": [
    "cat_features = ['cut', 'color', 'clarity']\n",
    "num_features = ['carat', 'table', 'depth', 'x', 'y', 'z']\n",
    "predict_num_feat = ['id','carat', 'table', 'depth', 'x', 'y', 'z']\n",
    "target = 'price'"
   ]
  },
  {
   "cell_type": "code",
   "execution_count": 60,
   "metadata": {},
   "outputs": [],
   "source": [
    "for cat in cat_features:\n",
    "    diamonds_train[cat_features] = diamonds_train[cat_features].astype('category')\n",
    "    diamonds_predict[cat_features] = diamonds_predict[cat_features].astype('category')"
   ]
  },
  {
   "cell_type": "code",
   "execution_count": 64,
   "metadata": {},
   "outputs": [],
   "source": [
    "cat_df_train = pd.get_dummies(diamonds_train[cat_features])\n",
    "num_df_train = diamonds_train[num_features]"
   ]
  },
  {
   "cell_type": "code",
   "execution_count": 62,
   "metadata": {},
   "outputs": [],
   "source": []
  },
  {
   "cell_type": "code",
   "execution_count": 66,
   "metadata": {},
   "outputs": [
    {
     "ename": "TypeError",
     "evalue": "cannot concatenate object of type '<class 'scipy.sparse.csr.csr_matrix'>'; only Series and DataFrame objs are valid",
     "output_type": "error",
     "traceback": [
      "\u001b[0;31m---------------------------------------------------------------------------\u001b[0m",
      "\u001b[0;31mTypeError\u001b[0m                                 Traceback (most recent call last)",
      "\u001b[0;32m<ipython-input-66-41e656613fe8>\u001b[0m in \u001b[0;36m<module>\u001b[0;34m\u001b[0m\n\u001b[0;32m----> 1\u001b[0;31m \u001b[0mtrain_df\u001b[0m \u001b[0;34m=\u001b[0m \u001b[0mpd\u001b[0m\u001b[0;34m.\u001b[0m\u001b[0mconcat\u001b[0m\u001b[0;34m(\u001b[0m\u001b[0;34m[\u001b[0m\u001b[0mcat_df_train\u001b[0m\u001b[0;34m,\u001b[0m \u001b[0mnum_df_train\u001b[0m\u001b[0;34m,\u001b[0m \u001b[0mdiamonds_train\u001b[0m\u001b[0;34m[\u001b[0m\u001b[0mtarget\u001b[0m\u001b[0;34m]\u001b[0m\u001b[0;34m]\u001b[0m\u001b[0;34m,\u001b[0m \u001b[0maxis\u001b[0m\u001b[0;34m=\u001b[0m\u001b[0;36m1\u001b[0m\u001b[0;34m)\u001b[0m\u001b[0;34m\u001b[0m\u001b[0;34m\u001b[0m\u001b[0m\n\u001b[0m",
      "\u001b[0;32m~/miniconda3/envs/ironhack_env/lib/python3.8/site-packages/pandas/core/reshape/concat.py\u001b[0m in \u001b[0;36mconcat\u001b[0;34m(objs, axis, join, ignore_index, keys, levels, names, verify_integrity, sort, copy)\u001b[0m\n\u001b[1;32m    272\u001b[0m     \u001b[0mValueError\u001b[0m\u001b[0;34m:\u001b[0m \u001b[0mIndexes\u001b[0m \u001b[0mhave\u001b[0m \u001b[0moverlapping\u001b[0m \u001b[0mvalues\u001b[0m\u001b[0;34m:\u001b[0m \u001b[0;34m[\u001b[0m\u001b[0;34m'a'\u001b[0m\u001b[0;34m]\u001b[0m\u001b[0;34m\u001b[0m\u001b[0;34m\u001b[0m\u001b[0m\n\u001b[1;32m    273\u001b[0m     \"\"\"\n\u001b[0;32m--> 274\u001b[0;31m     op = _Concatenator(\n\u001b[0m\u001b[1;32m    275\u001b[0m         \u001b[0mobjs\u001b[0m\u001b[0;34m,\u001b[0m\u001b[0;34m\u001b[0m\u001b[0;34m\u001b[0m\u001b[0m\n\u001b[1;32m    276\u001b[0m         \u001b[0maxis\u001b[0m\u001b[0;34m=\u001b[0m\u001b[0maxis\u001b[0m\u001b[0;34m,\u001b[0m\u001b[0;34m\u001b[0m\u001b[0;34m\u001b[0m\u001b[0m\n",
      "\u001b[0;32m~/miniconda3/envs/ironhack_env/lib/python3.8/site-packages/pandas/core/reshape/concat.py\u001b[0m in \u001b[0;36m__init__\u001b[0;34m(self, objs, axis, join, keys, levels, names, ignore_index, verify_integrity, copy, sort)\u001b[0m\n\u001b[1;32m    357\u001b[0m                     \u001b[0;34m\"only Series and DataFrame objs are valid\"\u001b[0m\u001b[0;34m\u001b[0m\u001b[0;34m\u001b[0m\u001b[0m\n\u001b[1;32m    358\u001b[0m                 )\n\u001b[0;32m--> 359\u001b[0;31m                 \u001b[0;32mraise\u001b[0m \u001b[0mTypeError\u001b[0m\u001b[0;34m(\u001b[0m\u001b[0mmsg\u001b[0m\u001b[0;34m)\u001b[0m\u001b[0;34m\u001b[0m\u001b[0;34m\u001b[0m\u001b[0m\n\u001b[0m\u001b[1;32m    360\u001b[0m \u001b[0;34m\u001b[0m\u001b[0m\n\u001b[1;32m    361\u001b[0m             \u001b[0;31m# consolidate\u001b[0m\u001b[0;34m\u001b[0m\u001b[0;34m\u001b[0m\u001b[0;34m\u001b[0m\u001b[0m\n",
      "\u001b[0;31mTypeError\u001b[0m: cannot concatenate object of type '<class 'scipy.sparse.csr.csr_matrix'>'; only Series and DataFrame objs are valid"
     ]
    }
   ],
   "source": []
  },
  {
   "cell_type": "markdown",
   "metadata": {},
   "source": [
    "## TEST CSV (nuestro diamonds_predict)"
   ]
  },
  {
   "cell_type": "code",
   "execution_count": 42,
   "metadata": {},
   "outputs": [],
   "source": [
    "cat_df_predict = pd.get_dummies(diamonds_predict[cat_features])\n",
    "num_df_predict = diamonds_predict[predict_num_feat]"
   ]
  },
  {
   "cell_type": "code",
   "execution_count": 43,
   "metadata": {},
   "outputs": [],
   "source": [
    "predict_df = pd.concat([cat_df_predict, num_df_predict], axis=1)"
   ]
  },
  {
   "cell_type": "markdown",
   "metadata": {},
   "source": [
    "# FEATURE ENGINERING"
   ]
  },
  {
   "cell_type": "markdown",
   "metadata": {},
   "source": [
    "## Price/Carat\n",
    "Útil para el análisis, no le encuentro uso para ML"
   ]
  },
  {
   "cell_type": "code",
   "execution_count": null,
   "metadata": {},
   "outputs": [],
   "source": []
  },
  {
   "cell_type": "markdown",
   "metadata": {},
   "source": [
    "### Train"
   ]
  },
  {
   "cell_type": "code",
   "execution_count": 13,
   "metadata": {},
   "outputs": [],
   "source": [
    "#diamonds_train['price/carat'] = (diamonds_train['price']/diamonds_train['carat']).round(2)"
   ]
  },
  {
   "cell_type": "code",
   "execution_count": null,
   "metadata": {},
   "outputs": [],
   "source": []
  },
  {
   "cell_type": "code",
   "execution_count": null,
   "metadata": {},
   "outputs": [],
   "source": []
  },
  {
   "cell_type": "markdown",
   "metadata": {},
   "source": [
    "## HEATMAP"
   ]
  },
  {
   "cell_type": "markdown",
   "metadata": {},
   "source": [
    "Depth & cut no están muy relacionados con el precio"
   ]
  },
  {
   "cell_type": "code",
   "execution_count": 14,
   "metadata": {},
   "outputs": [
    {
     "data": {
      "text/plain": [
       "<AxesSubplot:>"
      ]
     },
     "execution_count": 14,
     "metadata": {},
     "output_type": "execute_result"
    },
    {
     "data": {
      "image/png": "[encoded data removed]",
      "text/plain": [
       "<Figure size 864x864 with 2 Axes>"
      ]
     },
     "metadata": {
      "needs_background": "light"
     },
     "output_type": "display_data"
    }
   ],
   "source": [
    "plt.figure(figsize=(12,12))\n",
    "corr = diamonds_train.corr()\n",
    "sns.heatmap(data=corr, annot=True, cbar=True)"
   ]
  },
  {
   "cell_type": "code",
   "execution_count": null,
   "metadata": {},
   "outputs": [],
   "source": []
  },
  {
   "cell_type": "markdown",
   "metadata": {},
   "source": [
    "# ESCALAR"
   ]
  },
  {
   "cell_type": "code",
   "execution_count": 44,
   "metadata": {},
   "outputs": [],
   "source": [
    "#cat_features = ['cut', 'color', 'clarity']\n",
    "feat = cat_df_train.columns.tolist() + num_df_train.columns.tolist()\n",
    "\n",
    "#predict_feat = ['id','carat', 'table', 'depth', 'x', 'y', 'z', 'cut_num', 'color_num', 'clarity_num']\n",
    "target = 'price'"
   ]
  },
  {
   "cell_type": "markdown",
   "metadata": {},
   "source": [
    "### TRAIN"
   ]
  },
  {
   "cell_type": "code",
   "execution_count": 16,
   "metadata": {},
   "outputs": [],
   "source": [
    "#from sklearn.preprocessing import StandardScaler"
   ]
  },
  {
   "cell_type": "code",
   "execution_count": 17,
   "metadata": {},
   "outputs": [],
   "source": [
    "#scaler = StandardScaler()"
   ]
  },
  {
   "cell_type": "code",
   "execution_count": 18,
   "metadata": {},
   "outputs": [],
   "source": [
    "#X = scaler.fit_transform(diamonds_train[features])\n",
    "#y = diamonds_train[target]"
   ]
  },
  {
   "cell_type": "markdown",
   "metadata": {},
   "source": [
    "### TEST CSV (PREDICT)"
   ]
  },
  {
   "cell_type": "code",
   "execution_count": null,
   "metadata": {},
   "outputs": [],
   "source": []
  },
  {
   "cell_type": "markdown",
   "metadata": {},
   "source": [
    "# TRAIN-TEST-SPLIT"
   ]
  },
  {
   "cell_type": "code",
   "execution_count": 45,
   "metadata": {},
   "outputs": [],
   "source": [
    "from sklearn.model_selection import train_test_split "
   ]
  },
  {
   "cell_type": "code",
   "execution_count": 46,
   "metadata": {},
   "outputs": [],
   "source": [
    "X = train_df[feat]\n",
    "y = train_df[target]"
   ]
  },
  {
   "cell_type": "code",
   "execution_count": 47,
   "metadata": {},
   "outputs": [],
   "source": [
    "X_train, X_test, y_train, y_test = train_test_split(X, y,test_size=0.25, random_state=42)"
   ]
  },
  {
   "cell_type": "code",
   "execution_count": null,
   "metadata": {},
   "outputs": [],
   "source": []
  },
  {
   "cell_type": "markdown",
   "metadata": {},
   "source": [
    "### TEST"
   ]
  },
  {
   "cell_type": "code",
   "execution_count": null,
   "metadata": {},
   "outputs": [],
   "source": []
  },
  {
   "cell_type": "markdown",
   "metadata": {},
   "source": [
    "# MODELS"
   ]
  },
  {
   "cell_type": "code",
   "execution_count": 22,
   "metadata": {},
   "outputs": [],
   "source": [
    "from sklearn.ensemble import RandomForestRegressor, GradientBoostingRegressor\n",
    "from sklearn.tree import DecisionTreeRegressor\n",
    "from sklearn.metrics import mean_squared_error, mean_absolute_error\n",
    "from sklearn.model_selection import cross_val_score"
   ]
  },
  {
   "cell_type": "markdown",
   "metadata": {},
   "source": [
    "## 1. RANDOM FOREST"
   ]
  },
  {
   "cell_type": "code",
   "execution_count": 23,
   "metadata": {},
   "outputs": [],
   "source": [
    "rfr_model = RandomForestRegressor()"
   ]
  },
  {
   "cell_type": "code",
   "execution_count": 24,
   "metadata": {},
   "outputs": [
    {
     "data": {
      "text/plain": [
       "RandomForestRegressor()"
      ]
     },
     "execution_count": 24,
     "metadata": {},
     "output_type": "execute_result"
    }
   ],
   "source": [
    "rfr_model.fit(X_train, y_train)"
   ]
  },
  {
   "cell_type": "code",
   "execution_count": 25,
   "metadata": {},
   "outputs": [],
   "source": [
    "y_pred = rfr_model.predict(X_test)"
   ]
  },
  {
   "cell_type": "code",
   "execution_count": 26,
   "metadata": {},
   "outputs": [
    {
     "name": "stderr",
     "output_type": "stream",
     "text": [
      "[Parallel(n_jobs=1)]: Using backend SequentialBackend with 1 concurrent workers.\n",
      "[Parallel(n_jobs=1)]: Done   5 out of   5 | elapsed:   55.3s finished\n"
     ]
    },
    {
     "name": "stdout",
     "output_type": "stream",
     "text": [
      "Cross validation score : 0.9805\n",
      "[0.98094278 0.97908074 0.98022935 0.97713502 0.98026374]\n",
      "mae: 277.181482\n",
      "R2: 1.000000\n",
      "mse: 311385.848555\n",
      "rmse: 558.019577\n"
     ]
    }
   ],
   "source": [
    "cv_score = cross_val_score(estimator=rfr_model, X=X_train, y=y_train, cv=5,verbose = 1)\n",
    "print('Cross validation score : %.4f' % rfr_model.score(X_test, y_test))\n",
    "print(cv_score)\n",
    "mae = mean_absolute_error(y_test,y_pred)\n",
    "print(\"mae: %f\" %(mae))\n",
    "r2 = rfr_model.score(X_test,y_pred)\n",
    "print(\"R2: %f\" %(r2))\n",
    "mse = mean_squared_error(y_test,y_pred)\n",
    "print(\"mse: %f\" %(mse))\n",
    "rmse = (mean_squared_error(y_test,y_pred))**0.5\n",
    "print(\"rmse: %f\" %(rmse))"
   ]
  },
  {
   "cell_type": "code",
   "execution_count": null,
   "metadata": {},
   "outputs": [],
   "source": []
  },
  {
   "cell_type": "code",
   "execution_count": null,
   "metadata": {},
   "outputs": [],
   "source": [
    "#crossval_score = cross_val_score(rfr_model, X_train, y_train, cv=10)\n",
    "#print(cross_val_score)"
   ]
  },
  {
   "cell_type": "code",
   "execution_count": null,
   "metadata": {},
   "outputs": [],
   "source": []
  },
  {
   "cell_type": "markdown",
   "metadata": {},
   "source": [
    "## 2. DECISION TREE"
   ]
  },
  {
   "cell_type": "code",
   "execution_count": 27,
   "metadata": {},
   "outputs": [],
   "source": [
    "dtr_model = DecisionTreeRegressor(random_state = 0) #rstate=0 porque los resultados son mejores que sin poner nada o poniendo 1\n",
    "dtr_model.fit(X_train, y_train)\n",
    "y_pred = dtr_model.predict(X_test)"
   ]
  },
  {
   "cell_type": "code",
   "execution_count": 28,
   "metadata": {},
   "outputs": [
    {
     "name": "stderr",
     "output_type": "stream",
     "text": [
      "[Parallel(n_jobs=1)]: Using backend SequentialBackend with 1 concurrent workers.\n"
     ]
    },
    {
     "name": "stdout",
     "output_type": "stream",
     "text": [
      "Cross validation score : 0.96\n",
      "[0.96400114 0.96230959 0.96394082 0.95812106 0.96297902]\n",
      "mae: 373.080153\n",
      "R2: 1.000000\n",
      "mse: 594512.181546\n",
      "rmse: 771.046160\n"
     ]
    },
    {
     "name": "stderr",
     "output_type": "stream",
     "text": [
      "[Parallel(n_jobs=1)]: Done   5 out of   5 | elapsed:    1.0s finished\n"
     ]
    }
   ],
   "source": [
    "cv_score = cross_val_score(estimator=dtr_model, X=X_train, y=y_train, cv=5,verbose = 1)\n",
    "print('Cross validation score : %.2f' % dtr_model.score(X_test, y_test))\n",
    "print(cv_score)\n",
    "mae = mean_absolute_error(y_test,y_pred)\n",
    "print(\"mae: %f\" %(mae))\n",
    "r2 = dtr_model.score(X_test,y_pred)\n",
    "print(\"R2: %f\" %(r2))\n",
    "mse = mean_squared_error(y_test,y_pred)\n",
    "print(\"mse: %f\" %(mse))\n",
    "rmse = (mean_squared_error(y_test,y_pred))**0.5\n",
    "print(\"rmse: %f\" %(rmse))\n"
   ]
  },
  {
   "cell_type": "markdown",
   "metadata": {},
   "source": [
    "## 3. GRADIENT BOOSTING"
   ]
  },
  {
   "cell_type": "code",
   "execution_count": 48,
   "metadata": {},
   "outputs": [],
   "source": [
    "gbr_model = GradientBoostingRegressor(n_estimators=100, learning_rate=0.1, max_depth=8, random_state=0, loss='ls',verbose = 1)\n",
    "#max_depth 1, mal, 2, mal, 4 ok (553 rmse), 8 ok (542)"
   ]
  },
  {
   "cell_type": "code",
   "execution_count": 49,
   "metadata": {},
   "outputs": [
    {
     "name": "stdout",
     "output_type": "stream",
     "text": [
      "      Iter       Train Loss   Remaining Time \n",
      "         1    12993455.5283           18.39s\n",
      "         2    10659444.8830           16.11s\n",
      "         3     8766115.7787           14.60s\n",
      "         4     7228871.4932           14.31s\n",
      "         5     5972647.8268           13.51s\n",
      "         6     4943273.7397           13.88s\n",
      "         7     4106142.1537           13.41s\n",
      "         8     3426824.9171           13.01s\n",
      "         9     2861880.0934           12.66s\n",
      "        10     2401781.4933           12.36s\n",
      "        20      571764.3017           10.28s\n",
      "        30      277774.5605            8.76s\n",
      "        40      210934.7100            7.43s\n",
      "        50      182418.8606            6.06s\n",
      "        60      164114.1685            4.79s\n",
      "        70      147606.1319            3.58s\n",
      "        80      136174.4732            2.38s\n",
      "        90      125231.1513            1.19s\n",
      "       100      116174.6729            0.00s\n"
     ]
    }
   ],
   "source": [
    "gbr_model.fit(X_train , y_train)\n",
    "y_pred = gbr_model.predict(X_test)"
   ]
  },
  {
   "cell_type": "code",
   "execution_count": 50,
   "metadata": {},
   "outputs": [
    {
     "name": "stdout",
     "output_type": "stream",
     "text": [
      "      Iter       Train Loss   Remaining Time \n"
     ]
    },
    {
     "name": "stderr",
     "output_type": "stream",
     "text": [
      "[Parallel(n_jobs=1)]: Using backend SequentialBackend with 1 concurrent workers.\n"
     ]
    },
    {
     "name": "stdout",
     "output_type": "stream",
     "text": [
      "         1    12930396.6500           13.86s\n",
      "         2    10607574.6453           13.01s\n",
      "         3     8721961.2414           12.61s\n",
      "         4     7190779.0034           11.73s\n",
      "         5     5942719.7686           11.22s\n",
      "         6     4925566.6223           11.04s\n",
      "         7     4089871.6825           10.60s\n",
      "         8     3407866.9407           10.34s\n",
      "         9     2853140.0766           10.13s\n",
      "        10     2394743.5745            9.80s\n",
      "        20      567430.6305            7.85s\n",
      "        30      271623.0218            6.67s\n",
      "        40      202170.0287            6.14s\n",
      "        50      171374.0790            4.95s\n",
      "        60      151602.3926            3.89s\n",
      "        70      133522.2505            3.01s\n",
      "        80      122684.2578            2.09s\n",
      "        90      112448.7246            1.04s\n",
      "       100      105440.2535            0.00s\n",
      "      Iter       Train Loss   Remaining Time \n",
      "         1    13014480.1480            8.40s\n",
      "         2    10676931.3958            8.39s\n",
      "         3     8778451.8450            8.77s\n",
      "         4     7235960.2033            8.56s\n",
      "         5     5977393.0605            9.11s\n",
      "         6     4956041.6721           10.08s\n",
      "         7     4108905.1220           10.23s\n",
      "         8     3428777.0199           10.27s\n",
      "         9     2868299.0561           10.29s\n",
      "        10     2406598.3819           10.46s\n",
      "        20      569967.3035            8.43s\n",
      "        30      270423.3868            6.95s\n",
      "        40      200334.2330            5.76s\n",
      "        50      172063.9752            4.73s\n",
      "        60      152636.1440            3.74s\n",
      "        70      135564.1957            2.78s\n",
      "        80      123138.4289            1.84s\n",
      "        90      112430.2893            0.91s\n",
      "       100      102243.2699            0.00s\n",
      "      Iter       Train Loss   Remaining Time \n",
      "         1    13047799.0399            9.00s\n",
      "         2    10703086.5399            8.91s\n",
      "         3     8798453.3481            9.30s\n",
      "         4     7247562.7805            8.93s\n",
      "         5     5980665.9562            8.89s\n",
      "         6     4954653.9856            8.70s\n",
      "         7     4108790.6783            8.57s\n",
      "         8     3419964.1389            8.72s\n",
      "         9     2859484.6227            8.51s\n",
      "        10     2404198.2737            8.34s\n",
      "        20      567530.9231            7.27s\n",
      "        30      269769.4613            6.29s\n",
      "        40      200866.2031            5.34s\n",
      "        50      170971.2458            4.43s\n",
      "        60      154370.8133            3.53s\n",
      "        70      137839.3196            2.64s\n",
      "        80      124369.5082            1.76s\n",
      "        90      115518.4436            0.89s\n",
      "       100      106885.9393            0.00s\n",
      "      Iter       Train Loss   Remaining Time \n",
      "         1    12991426.4661            8.36s\n",
      "         2    10654996.5514            8.30s\n",
      "         3     8758297.1468            8.63s\n",
      "         4     7215360.0981            8.51s\n",
      "         5     5962428.7015            8.63s\n",
      "         6     4932047.3764            8.46s\n",
      "         7     4099321.7792            8.23s\n",
      "         8     3412496.2587            8.40s\n",
      "         9     2854529.9685            8.23s\n",
      "        10     2392653.8554            8.10s\n",
      "        20      563010.5184            7.23s\n",
      "        30      267113.5349            6.28s\n",
      "        40      198698.8743            5.35s\n",
      "        50      169732.8558            4.45s\n",
      "        60      152250.9922            3.55s\n",
      "        70      135529.4268            2.66s\n",
      "        80      125145.8771            1.77s\n",
      "        90      115899.7095            0.89s\n",
      "       100      108192.5238            0.00s\n",
      "      Iter       Train Loss   Remaining Time \n",
      "         1    12977680.6013            8.42s\n",
      "         2    10645173.4181            8.08s\n",
      "         3     8754375.7885            8.84s\n",
      "         4     7218502.0524            8.51s\n",
      "         5     5962740.3122            8.34s\n",
      "         6     4948258.9117            8.56s\n",
      "         7     4104507.4459            8.39s\n",
      "         8     3419582.2439            8.25s\n",
      "         9     2859867.9146            8.31s\n",
      "        10     2402940.0105            8.18s\n",
      "        20      568228.7164            7.11s\n",
      "        30      268622.4594            6.16s\n",
      "        40      202284.8405            5.28s\n",
      "        50      172206.8704            4.39s\n",
      "        60      153301.8460            3.55s\n",
      "        70      134822.6597            2.66s\n",
      "        80      124948.6459            1.77s\n",
      "        90      112672.1274            0.88s\n",
      "       100      103831.7121            0.00s\n",
      "Cross validation score : 0.98\n",
      "[0.98131243 0.98116988 0.98145528 0.97759714 0.98096486]\n",
      "mae: 279.740974\n",
      "R2: 1.000000\n",
      "mse: 307638.711342\n",
      "rmse: 554.651883\n"
     ]
    },
    {
     "name": "stderr",
     "output_type": "stream",
     "text": [
      "[Parallel(n_jobs=1)]: Done   5 out of   5 | elapsed:   46.2s finished\n"
     ]
    }
   ],
   "source": [
    "cv_score = cross_val_score(estimator=gbr_model, X=X_train, y=y_train, cv=5,verbose = 1)\n",
    "print('Cross validation score : %.2f' % gbr_model.score(X_test, y_test))\n",
    "print(cv_score)\n",
    "mae = mean_absolute_error(y_test, y_pred)\n",
    "print(\"mae: %f\" %(mae))\n",
    "r2 = gbr_model.score(X_test,y_pred)\n",
    "print(\"R2: %f\" %(r2))\n",
    "mse = mean_squared_error(y_test, y_pred)\n",
    "print(\"mse: %f\" %(mse))\n",
    "rmse = (mean_squared_error(y_test, y_pred))**0.5\n",
    "print(\"rmse: %f\" %(rmse))"
   ]
  },
  {
   "cell_type": "markdown",
   "metadata": {},
   "source": [
    "## LIGHT GBM"
   ]
  },
  {
   "cell_type": "code",
   "execution_count": 32,
   "metadata": {},
   "outputs": [],
   "source": [
    "from sklearn.experimental import enable_hist_gradient_boosting\n",
    "from sklearn.ensemble import HistGradientBoostingRegressor"
   ]
  },
  {
   "cell_type": "code",
   "execution_count": 33,
   "metadata": {},
   "outputs": [],
   "source": [
    "hgbr_model = HistGradientBoostingRegressor()"
   ]
  },
  {
   "cell_type": "code",
   "execution_count": 34,
   "metadata": {},
   "outputs": [
    {
     "ename": "NameError",
     "evalue": "name 'regressor' is not defined",
     "output_type": "error",
     "traceback": [
      "\u001b[0;31m---------------------------------------------------------------------------\u001b[0m",
      "\u001b[0;31mNameError\u001b[0m                                 Traceback (most recent call last)",
      "\u001b[0;32m<ipython-input-34-729e44fcbb57>\u001b[0m in \u001b[0;36m<module>\u001b[0;34m\u001b[0m\n\u001b[0;32m----> 1\u001b[0;31m \u001b[0mregressor\u001b[0m\u001b[0;34m.\u001b[0m\u001b[0mfit\u001b[0m\u001b[0;34m(\u001b[0m\u001b[0mX_train\u001b[0m\u001b[0;34m,\u001b[0m \u001b[0my_train\u001b[0m\u001b[0;34m)\u001b[0m\u001b[0;34m\u001b[0m\u001b[0;34m\u001b[0m\u001b[0m\n\u001b[0m\u001b[1;32m      2\u001b[0m \u001b[0my_pred\u001b[0m \u001b[0;34m=\u001b[0m \u001b[0mhgbr_model\u001b[0m\u001b[0;34m.\u001b[0m\u001b[0mpredict\u001b[0m\u001b[0;34m(\u001b[0m\u001b[0mX_test\u001b[0m\u001b[0;34m)\u001b[0m\u001b[0;34m\u001b[0m\u001b[0;34m\u001b[0m\u001b[0m\n",
      "\u001b[0;31mNameError\u001b[0m: name 'regressor' is not defined"
     ]
    }
   ],
   "source": [
    "regressor.fit(X_train, y_train)\n",
    "y_pred = hgbr_model.predict(X_test)"
   ]
  },
  {
   "cell_type": "code",
   "execution_count": null,
   "metadata": {},
   "outputs": [],
   "source": [
    "cv_score = cross_val_score(estimator=hgbr_model, X=X_train, y=y_train, cv=5,verbose = 1)\n",
    "print('Cross validation score : %.2f' % hgbr_model.score(X_test, y_test))\n",
    "print(cv_score)\n",
    "mae = mean_absolute_error(y_test, y_pred)\n",
    "print(\"mae: %f\" %(mae))\n",
    "r2 = hgbr_model.score(X_test,y_pred)\n",
    "print(\"R2: %f\" %(r2))\n",
    "mse = mean_squared_error(y_test, y_pred)\n",
    "print(\"mse: %f\" %(mse))\n",
    "rmse = (mean_squared_error(y_test, y_pred))**0.5\n",
    "print(\"rmse: %f\" %(rmse))"
   ]
  },
  {
   "cell_type": "markdown",
   "metadata": {},
   "source": [
    "# ERROR METRICS"
   ]
  },
  {
   "cell_type": "markdown",
   "metadata": {},
   "source": [
    "### MAE"
   ]
  },
  {
   "cell_type": "code",
   "execution_count": null,
   "metadata": {},
   "outputs": [],
   "source": [
    "mae = mean_absolute_error(Y_test,y_pred)\n",
    "print(\"mae: %f\" %(mae))"
   ]
  },
  {
   "cell_type": "markdown",
   "metadata": {},
   "source": [
    "### RMSE"
   ]
  },
  {
   "cell_type": "code",
   "execution_count": null,
   "metadata": {},
   "outputs": [],
   "source": [
    "rmse = (mean_squared_error(Y_test,y_pred))**0.5\n",
    "print(\"rmse: %f\" %(rmse))"
   ]
  },
  {
   "cell_type": "markdown",
   "metadata": {},
   "source": [
    "### R2"
   ]
  },
  {
   "cell_type": "code",
   "execution_count": null,
   "metadata": {},
   "outputs": [],
   "source": [
    "Rsquare=regressor.score(X_test,Y_test)\n",
    "print(\"Rsquare: %f\" %(Rsquare))"
   ]
  },
  {
   "cell_type": "markdown",
   "metadata": {},
   "source": [
    "## PREDICTION"
   ]
  },
  {
   "cell_type": "code",
   "execution_count": 70,
   "metadata": {},
   "outputs": [],
   "source": [
    "X_predict = diamonds_predict[features]\n",
    "predictions = gbr_model.predict(X_predict)\n",
    "diamonds_id = diamonds_predict['id']"
   ]
  },
  {
   "cell_type": "code",
   "execution_count": null,
   "metadata": {},
   "outputs": [],
   "source": []
  },
  {
   "cell_type": "code",
   "execution_count": null,
   "metadata": {},
   "outputs": [],
   "source": []
  },
  {
   "cell_type": "code",
   "execution_count": null,
   "metadata": {},
   "outputs": [],
   "source": []
  },
  {
   "cell_type": "code",
   "execution_count": null,
   "metadata": {},
   "outputs": [],
   "source": []
  },
  {
   "cell_type": "markdown",
   "metadata": {},
   "source": [
    "# GENERAR DF"
   ]
  },
  {
   "cell_type": "code",
   "execution_count": 71,
   "metadata": {},
   "outputs": [],
   "source": [
    "submission = pd.DataFrame({'id': diamonds_id, 'price': predictions})"
   ]
  },
  {
   "cell_type": "code",
   "execution_count": 72,
   "metadata": {},
   "outputs": [
    {
     "data": {
      "text/plain": [
       "(13485, 2)"
      ]
     },
     "execution_count": 72,
     "metadata": {},
     "output_type": "execute_result"
    }
   ],
   "source": [
    "submission.shape"
   ]
  },
  {
   "cell_type": "code",
   "execution_count": 1,
   "metadata": {},
   "outputs": [
    {
     "ename": "NameError",
     "evalue": "name 'submission' is not defined",
     "output_type": "error",
     "traceback": [
      "\u001b[0;31m---------------------------------------------------------------------------\u001b[0m",
      "\u001b[0;31mNameError\u001b[0m                                 Traceback (most recent call last)",
      "\u001b[0;32m<ipython-input-1-1044006dfbb1>\u001b[0m in \u001b[0;36m<module>\u001b[0;34m\u001b[0m\n\u001b[0;32m----> 1\u001b[0;31m \u001b[0msubmission\u001b[0m\u001b[0;34m.\u001b[0m\u001b[0minfo\u001b[0m\u001b[0;34m(\u001b[0m\u001b[0;34m)\u001b[0m\u001b[0;34m\u001b[0m\u001b[0;34m\u001b[0m\u001b[0m\n\u001b[0m",
      "\u001b[0;31mNameError\u001b[0m: name 'submission' is not defined"
     ]
    }
   ],
   "source": [
    "submission.info()"
   ]
  },
  {
   "cell_type": "code",
   "execution_count": 73,
   "metadata": {},
   "outputs": [],
   "source": [
    "submission.to_csv('submission.csv', index=False)"
   ]
  }
 ],
 "metadata": {
  "kernelspec": {
   "display_name": "Python [conda env:ironhack_env]",
   "language": "python",
   "name": "conda-env-ironhack_env-py"
  },
  "language_info": {
   "codemirror_mode": {
    "name": "ipython",
    "version": 3
   },
   "file_extension": ".py",
   "mimetype": "text/x-python",
   "name": "python",
   "nbconvert_exporter": "python",
   "pygments_lexer": "ipython3",
   "version": "3.8.5"
  }
 },
 "nbformat": 4,
 "nbformat_minor": 4
}
