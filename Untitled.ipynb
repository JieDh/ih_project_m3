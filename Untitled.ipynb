{
 "cells": [
  {
   "cell_type": "code",
   "execution_count": 115,
   "metadata": {},
   "outputs": [],
   "source": [
    "import pandas as pd\n",
    "import matplotlib.pyplot as plt\n",
    "import seaborn as sns\n",
    "import numpy as np"
   ]
  },
  {
   "cell_type": "code",
   "execution_count": 116,
   "metadata": {},
   "outputs": [],
   "source": [
    "diamonds_train = pd.read_csv('data/diamonds_train.csv')"
   ]
  },
  {
   "cell_type": "code",
   "execution_count": 117,
   "metadata": {},
   "outputs": [],
   "source": [
    "diamonds_predict = pd.read_csv('data/diamonds_test.csv')"
   ]
  },
  {
   "cell_type": "code",
   "execution_count": null,
   "metadata": {},
   "outputs": [],
   "source": []
  },
  {
   "cell_type": "markdown",
   "metadata": {},
   "source": [
    "## GETTING RID OF 0 IN xyz"
   ]
  },
  {
   "cell_type": "code",
   "execution_count": 118,
   "metadata": {},
   "outputs": [
    {
     "data": {
      "text/plain": [
       "(40439, 10)"
      ]
     },
     "execution_count": 118,
     "metadata": {},
     "output_type": "execute_result"
    }
   ],
   "source": [
    "diamonds_train = diamonds_train[(diamonds_train['x'] != 0) & (diamonds_train['y'] != 0) & (diamonds_train['z'] != 0)]\n",
    "diamonds_train.shape"
   ]
  },
  {
   "cell_type": "code",
   "execution_count": 119,
   "metadata": {},
   "outputs": [],
   "source": [
    "# Since we cannot drop the rows of our predict csv, we gonna fill it with the mean value\n",
    "diamonds_predict['x'] = diamonds_predict['x'].apply(lambda x: diamonds_predict['x'].mean() if x==0 else x)\n",
    "diamonds_predict['y'] = diamonds_predict['y'].apply(lambda x: diamonds_predict['y'].mean() if x==0 else x)\n",
    "diamonds_predict['z'] = diamonds_predict['z'].apply(lambda x: diamonds_predict['z'].mean() if x==0 else x)"
   ]
  },
  {
   "cell_type": "code",
   "execution_count": 120,
   "metadata": {},
   "outputs": [],
   "source": [
    "diamonds_train = diamonds_train[(diamonds_train[\"depth\"]<71) & (diamonds_train[\"depth\"]>54)]\n",
    "\n",
    "diamonds_train = diamonds_train[(diamonds_train[\"table\"]<70) & (diamonds_train[\"table\"]>52)]\n",
    "\n",
    "diamonds_train = diamonds_train[(diamonds_train[\"x\"]<10) & (diamonds_train['y']<10)] \n",
    "#no dropeamos nada de z porque hay bastantes valores en torno a 6\n",
    "\n",
    "diamonds_train = diamonds_train[diamonds_train['carat'] < 2.67]"
   ]
  },
  {
   "cell_type": "code",
   "execution_count": null,
   "metadata": {},
   "outputs": [],
   "source": []
  },
  {
   "cell_type": "markdown",
   "metadata": {},
   "source": [
    "## ENCODE CATEGORIES"
   ]
  },
  {
   "cell_type": "code",
   "execution_count": 121,
   "metadata": {},
   "outputs": [],
   "source": [
    "cut_num = {'Ideal': 5, 'Premium': 4, 'Very Good': 3, 'Good': 2, 'Fair': 1}\n",
    "color_num = {'D': 7, 'E': 6, 'F': 5, 'G': 4, 'H': 3, 'I': 2, 'J': 1}\n",
    "clarity_num = {'IF': 8, 'VVS1': 7, 'VVS2': 6, 'VS1': 5, 'VS2': 4, 'SI1': 3, 'SI2': 2, 'I1': 1}"
   ]
  },
  {
   "cell_type": "code",
   "execution_count": 122,
   "metadata": {},
   "outputs": [],
   "source": [
    "diamonds_train['cut_num'] = diamonds_train['cut'].replace(cut_num)\n",
    "diamonds_train['color_num'] = diamonds_train['color'].replace(color_num)\n",
    "diamonds_train['clarity_num'] = diamonds_train['clarity'].replace(clarity_num)\n",
    "\n",
    "diamonds_predict['cut_num'] = diamonds_predict['cut'].replace(cut_num)\n",
    "diamonds_predict['color_num'] = diamonds_predict['color'].replace(color_num)\n",
    "diamonds_predict['clarity_num'] = diamonds_predict['clarity'].replace(clarity_num)"
   ]
  },
  {
   "cell_type": "code",
   "execution_count": null,
   "metadata": {},
   "outputs": [],
   "source": []
  },
  {
   "cell_type": "markdown",
   "metadata": {},
   "source": [
    "## Volume"
   ]
  },
  {
   "cell_type": "code",
   "execution_count": 123,
   "metadata": {},
   "outputs": [],
   "source": [
    "diamonds_train['volume'] = diamonds_train['x'] * diamonds_train['y'] * diamonds_train['z']\n",
    "diamonds_predict['volume'] = diamonds_predict['x'] * diamonds_predict['y'] * diamonds_predict['z']"
   ]
  },
  {
   "cell_type": "code",
   "execution_count": 124,
   "metadata": {},
   "outputs": [
    {
     "data": {
      "text/html": [
       "<div>\n",
       "<style scoped>\n",
       "    .dataframe tbody tr th:only-of-type {\n",
       "        vertical-align: middle;\n",
       "    }\n",
       "\n",
       "    .dataframe tbody tr th {\n",
       "        vertical-align: top;\n",
       "    }\n",
       "\n",
       "    .dataframe thead th {\n",
       "        text-align: right;\n",
       "    }\n",
       "</style>\n",
       "<table border=\"1\" class=\"dataframe\">\n",
       "  <thead>\n",
       "    <tr style=\"text-align: right;\">\n",
       "      <th></th>\n",
       "      <th>carat</th>\n",
       "      <th>depth</th>\n",
       "      <th>table</th>\n",
       "      <th>price</th>\n",
       "      <th>x</th>\n",
       "      <th>y</th>\n",
       "      <th>z</th>\n",
       "      <th>cut_num</th>\n",
       "      <th>color_num</th>\n",
       "      <th>clarity_num</th>\n",
       "      <th>volume</th>\n",
       "    </tr>\n",
       "  </thead>\n",
       "  <tbody>\n",
       "    <tr>\n",
       "      <th>count</th>\n",
       "      <td>40308.000000</td>\n",
       "      <td>40308.000000</td>\n",
       "      <td>40308.000000</td>\n",
       "      <td>40308.000000</td>\n",
       "      <td>40308.000000</td>\n",
       "      <td>40308.000000</td>\n",
       "      <td>40308.000000</td>\n",
       "      <td>40308.000000</td>\n",
       "      <td>40308.000000</td>\n",
       "      <td>40308.000000</td>\n",
       "      <td>40308.000000</td>\n",
       "    </tr>\n",
       "    <tr>\n",
       "      <th>mean</th>\n",
       "      <td>0.794862</td>\n",
       "      <td>61.751546</td>\n",
       "      <td>57.447435</td>\n",
       "      <td>3915.694602</td>\n",
       "      <td>5.725494</td>\n",
       "      <td>5.727689</td>\n",
       "      <td>3.535797</td>\n",
       "      <td>3.909125</td>\n",
       "      <td>4.402873</td>\n",
       "      <td>4.053538</td>\n",
       "      <td>129.360916</td>\n",
       "    </tr>\n",
       "    <tr>\n",
       "      <th>std</th>\n",
       "      <td>0.469421</td>\n",
       "      <td>1.405603</td>\n",
       "      <td>2.196913</td>\n",
       "      <td>3976.722032</td>\n",
       "      <td>1.117091</td>\n",
       "      <td>1.109045</td>\n",
       "      <td>0.689854</td>\n",
       "      <td>1.114014</td>\n",
       "      <td>1.700711</td>\n",
       "      <td>1.646859</td>\n",
       "      <td>75.794517</td>\n",
       "    </tr>\n",
       "    <tr>\n",
       "      <th>min</th>\n",
       "      <td>0.200000</td>\n",
       "      <td>54.200000</td>\n",
       "      <td>52.400000</td>\n",
       "      <td>326.000000</td>\n",
       "      <td>3.770000</td>\n",
       "      <td>3.720000</td>\n",
       "      <td>1.070000</td>\n",
       "      <td>1.000000</td>\n",
       "      <td>1.000000</td>\n",
       "      <td>1.000000</td>\n",
       "      <td>32.262375</td>\n",
       "    </tr>\n",
       "    <tr>\n",
       "      <th>25%</th>\n",
       "      <td>0.400000</td>\n",
       "      <td>61.000000</td>\n",
       "      <td>56.000000</td>\n",
       "      <td>945.000000</td>\n",
       "      <td>4.710000</td>\n",
       "      <td>4.720000</td>\n",
       "      <td>2.910000</td>\n",
       "      <td>3.000000</td>\n",
       "      <td>3.000000</td>\n",
       "      <td>3.000000</td>\n",
       "      <td>64.887315</td>\n",
       "    </tr>\n",
       "    <tr>\n",
       "      <th>50%</th>\n",
       "      <td>0.700000</td>\n",
       "      <td>61.800000</td>\n",
       "      <td>57.000000</td>\n",
       "      <td>2393.000000</td>\n",
       "      <td>5.690000</td>\n",
       "      <td>5.700000</td>\n",
       "      <td>3.520000</td>\n",
       "      <td>4.000000</td>\n",
       "      <td>4.000000</td>\n",
       "      <td>4.000000</td>\n",
       "      <td>114.644460</td>\n",
       "    </tr>\n",
       "    <tr>\n",
       "      <th>75%</th>\n",
       "      <td>1.040000</td>\n",
       "      <td>62.500000</td>\n",
       "      <td>59.000000</td>\n",
       "      <td>5316.250000</td>\n",
       "      <td>6.540000</td>\n",
       "      <td>6.540000</td>\n",
       "      <td>4.030000</td>\n",
       "      <td>5.000000</td>\n",
       "      <td>6.000000</td>\n",
       "      <td>5.000000</td>\n",
       "      <td>170.726151</td>\n",
       "    </tr>\n",
       "    <tr>\n",
       "      <th>max</th>\n",
       "      <td>2.660000</td>\n",
       "      <td>70.800000</td>\n",
       "      <td>69.000000</td>\n",
       "      <td>18823.000000</td>\n",
       "      <td>9.050000</td>\n",
       "      <td>8.940000</td>\n",
       "      <td>6.160000</td>\n",
       "      <td>5.000000</td>\n",
       "      <td>7.000000</td>\n",
       "      <td>8.000000</td>\n",
       "      <td>432.825408</td>\n",
       "    </tr>\n",
       "  </tbody>\n",
       "</table>\n",
       "</div>"
      ],
      "text/plain": [
       "              carat         depth         table         price             x  \\\n",
       "count  40308.000000  40308.000000  40308.000000  40308.000000  40308.000000   \n",
       "mean       0.794862     61.751546     57.447435   3915.694602      5.725494   \n",
       "std        0.469421      1.405603      2.196913   3976.722032      1.117091   \n",
       "min        0.200000     54.200000     52.400000    326.000000      3.770000   \n",
       "25%        0.400000     61.000000     56.000000    945.000000      4.710000   \n",
       "50%        0.700000     61.800000     57.000000   2393.000000      5.690000   \n",
       "75%        1.040000     62.500000     59.000000   5316.250000      6.540000   \n",
       "max        2.660000     70.800000     69.000000  18823.000000      9.050000   \n",
       "\n",
       "                  y             z       cut_num     color_num   clarity_num  \\\n",
       "count  40308.000000  40308.000000  40308.000000  40308.000000  40308.000000   \n",
       "mean       5.727689      3.535797      3.909125      4.402873      4.053538   \n",
       "std        1.109045      0.689854      1.114014      1.700711      1.646859   \n",
       "min        3.720000      1.070000      1.000000      1.000000      1.000000   \n",
       "25%        4.720000      2.910000      3.000000      3.000000      3.000000   \n",
       "50%        5.700000      3.520000      4.000000      4.000000      4.000000   \n",
       "75%        6.540000      4.030000      5.000000      6.000000      5.000000   \n",
       "max        8.940000      6.160000      5.000000      7.000000      8.000000   \n",
       "\n",
       "             volume  \n",
       "count  40308.000000  \n",
       "mean     129.360916  \n",
       "std       75.794517  \n",
       "min       32.262375  \n",
       "25%       64.887315  \n",
       "50%      114.644460  \n",
       "75%      170.726151  \n",
       "max      432.825408  "
      ]
     },
     "execution_count": 124,
     "metadata": {},
     "output_type": "execute_result"
    }
   ],
   "source": [
    "diamonds_train.describe()"
   ]
  },
  {
   "cell_type": "code",
   "execution_count": 125,
   "metadata": {},
   "outputs": [
    {
     "data": {
      "text/html": [
       "<div>\n",
       "<style scoped>\n",
       "    .dataframe tbody tr th:only-of-type {\n",
       "        vertical-align: middle;\n",
       "    }\n",
       "\n",
       "    .dataframe tbody tr th {\n",
       "        vertical-align: top;\n",
       "    }\n",
       "\n",
       "    .dataframe thead th {\n",
       "        text-align: right;\n",
       "    }\n",
       "</style>\n",
       "<table border=\"1\" class=\"dataframe\">\n",
       "  <thead>\n",
       "    <tr style=\"text-align: right;\">\n",
       "      <th></th>\n",
       "      <th>carat</th>\n",
       "      <th>cut</th>\n",
       "      <th>color</th>\n",
       "      <th>clarity</th>\n",
       "      <th>depth</th>\n",
       "      <th>table</th>\n",
       "      <th>price</th>\n",
       "      <th>x</th>\n",
       "      <th>y</th>\n",
       "      <th>z</th>\n",
       "      <th>cut_num</th>\n",
       "      <th>color_num</th>\n",
       "      <th>clarity_num</th>\n",
       "      <th>volume</th>\n",
       "    </tr>\n",
       "  </thead>\n",
       "  <tbody>\n",
       "    <tr>\n",
       "      <th>5988</th>\n",
       "      <td>2.66</td>\n",
       "      <td>Good</td>\n",
       "      <td>H</td>\n",
       "      <td>SI2</td>\n",
       "      <td>63.8</td>\n",
       "      <td>57.0</td>\n",
       "      <td>16239</td>\n",
       "      <td>8.71</td>\n",
       "      <td>8.65</td>\n",
       "      <td>5.54</td>\n",
       "      <td>2</td>\n",
       "      <td>3</td>\n",
       "      <td>2</td>\n",
       "      <td>417.39191</td>\n",
       "    </tr>\n",
       "    <tr>\n",
       "      <th>20676</th>\n",
       "      <td>2.66</td>\n",
       "      <td>Good</td>\n",
       "      <td>H</td>\n",
       "      <td>SI2</td>\n",
       "      <td>63.8</td>\n",
       "      <td>57.0</td>\n",
       "      <td>16239</td>\n",
       "      <td>8.71</td>\n",
       "      <td>8.65</td>\n",
       "      <td>5.54</td>\n",
       "      <td>2</td>\n",
       "      <td>3</td>\n",
       "      <td>2</td>\n",
       "      <td>417.39191</td>\n",
       "    </tr>\n",
       "  </tbody>\n",
       "</table>\n",
       "</div>"
      ],
      "text/plain": [
       "       carat   cut color clarity  depth  table  price     x     y     z  \\\n",
       "5988    2.66  Good     H     SI2   63.8   57.0  16239  8.71  8.65  5.54   \n",
       "20676   2.66  Good     H     SI2   63.8   57.0  16239  8.71  8.65  5.54   \n",
       "\n",
       "       cut_num  color_num  clarity_num     volume  \n",
       "5988         2          3            2  417.39191  \n",
       "20676        2          3            2  417.39191  "
      ]
     },
     "execution_count": 125,
     "metadata": {},
     "output_type": "execute_result"
    }
   ],
   "source": [
    "diamonds_train[diamonds_train['carat']>2.65]"
   ]
  },
  {
   "cell_type": "markdown",
   "metadata": {},
   "source": [
    "## l/w Ratio"
   ]
  },
  {
   "cell_type": "code",
   "execution_count": 126,
   "metadata": {},
   "outputs": [],
   "source": [
    "diamonds_train['l/w ratio'] = diamonds_train.x/diamonds_train.y\n",
    "diamonds_predict['l/w ratio'] = diamonds_predict.x/diamonds_predict.y"
   ]
  },
  {
   "cell_type": "markdown",
   "metadata": {},
   "source": [
    "## Carat length Ratio"
   ]
  },
  {
   "cell_type": "code",
   "execution_count": 127,
   "metadata": {},
   "outputs": [],
   "source": [
    "diamonds_train['carat/length ratio'] = diamonds_train['carat']/diamonds_train['x']\n",
    "diamonds_predict['carat/length ratio'] = diamonds_predict['carat']/diamonds_predict['x']"
   ]
  },
  {
   "cell_type": "markdown",
   "metadata": {},
   "source": [
    "# Width carat ratio"
   ]
  },
  {
   "cell_type": "code",
   "execution_count": 128,
   "metadata": {},
   "outputs": [],
   "source": [
    "diamonds_train['carat/width ratio'] = diamonds_train['carat']/diamonds_train['y']\n",
    "diamonds_predict['carat/width ratio'] = diamonds_predict['carat']/diamonds_predict['y']"
   ]
  },
  {
   "cell_type": "markdown",
   "metadata": {},
   "source": [
    "## Carat depth Ratio"
   ]
  },
  {
   "cell_type": "code",
   "execution_count": 129,
   "metadata": {},
   "outputs": [],
   "source": [
    "diamonds_train['carat/depth ratio'] = diamonds_train['carat']/diamonds_train['z']\n",
    "diamonds_predict['carat/depth ratio'] = diamonds_predict['carat']/diamonds_predict['z']"
   ]
  },
  {
   "cell_type": "code",
   "execution_count": null,
   "metadata": {},
   "outputs": [],
   "source": []
  },
  {
   "cell_type": "code",
   "execution_count": 130,
   "metadata": {},
   "outputs": [],
   "source": [
    "diamonds_train['density'] = diamonds_train['carat']/diamonds_train['volume']\n",
    "diamonds_predict['density'] = diamonds_predict['carat']/diamonds_predict['volume']"
   ]
  },
  {
   "cell_type": "markdown",
   "metadata": {},
   "source": [
    "# ESCALAR"
   ]
  },
  {
   "cell_type": "code",
   "execution_count": 180,
   "metadata": {},
   "outputs": [],
   "source": [
    "diamonds_train = diamonds_train.drop(['cut', 'color', 'clarity'], axis=1)\n",
    "diamonds_predict = diamonds_predict.drop(['cut', 'color', 'clarity'], axis=1)"
   ]
  },
  {
   "cell_type": "code",
   "execution_count": 184,
   "metadata": {},
   "outputs": [],
   "source": [
    "features = ['carat', 'depth', 'table', 'x', 'y', 'z', 'cut_num', 'color_num', 'clarity_num']\n",
    "target = 'price'"
   ]
  },
  {
   "cell_type": "code",
   "execution_count": 132,
   "metadata": {},
   "outputs": [],
   "source": [
    "from sklearn.preprocessing import StandardScaler"
   ]
  },
  {
   "cell_type": "code",
   "execution_count": 182,
   "metadata": {},
   "outputs": [],
   "source": [
    "scaler = StandardScaler()"
   ]
  },
  {
   "cell_type": "code",
   "execution_count": 185,
   "metadata": {},
   "outputs": [],
   "source": [
    "X = scaler.fit_transform(diamonds_train[features])\n",
    "y = diamonds_train[target]"
   ]
  },
  {
   "cell_type": "code",
   "execution_count": 186,
   "metadata": {},
   "outputs": [],
   "source": [
    "X_pred = scaler.fit_transform(diamonds_predict[features])"
   ]
  },
  {
   "cell_type": "code",
   "execution_count": null,
   "metadata": {},
   "outputs": [],
   "source": []
  },
  {
   "cell_type": "code",
   "execution_count": 136,
   "metadata": {},
   "outputs": [],
   "source": [
    "from sklearn.model_selection import train_test_split "
   ]
  },
  {
   "cell_type": "code",
   "execution_count": 187,
   "metadata": {},
   "outputs": [],
   "source": [
    "X_train, X_test, y_train, y_test = train_test_split(X, y, test_size=0.25, random_state=42)"
   ]
  },
  {
   "cell_type": "code",
   "execution_count": null,
   "metadata": {},
   "outputs": [],
   "source": []
  },
  {
   "cell_type": "code",
   "execution_count": 138,
   "metadata": {},
   "outputs": [],
   "source": [
    "from sklearn.ensemble import RandomForestRegressor, GradientBoostingRegressor\n",
    "from sklearn.tree import DecisionTreeRegressor\n",
    "from sklearn.metrics import mean_squared_error, mean_absolute_error\n",
    "from sklearn.model_selection import cross_val_score, RandomizedSearchCV\n"
   ]
  },
  {
   "cell_type": "code",
   "execution_count": null,
   "metadata": {},
   "outputs": [],
   "source": []
  },
  {
   "cell_type": "code",
   "execution_count": 188,
   "metadata": {},
   "outputs": [],
   "source": [
    "gbr_model = GradientBoostingRegressor(n_estimators=100, learning_rate=0.1, max_depth=8, random_state=0, loss='ls',verbose = 1)\n",
    "#max_depth 1, mal, 2, mal, 4 ok (553 rmse), 8 ok (542)"
   ]
  },
  {
   "cell_type": "code",
   "execution_count": 189,
   "metadata": {},
   "outputs": [
    {
     "name": "stdout",
     "output_type": "stream",
     "text": [
      "      Iter       Train Loss   Remaining Time \n",
      "         1    12938276.6729           11.60s\n",
      "         2    10556917.9328            9.34s\n",
      "         3     8627325.5127            8.92s\n",
      "         4     7058615.8410            8.52s\n",
      "         5     5784660.5470            8.10s\n",
      "         6     4751417.7110            8.00s\n",
      "         7     3908321.3646            7.83s\n",
      "         8     3224708.3522            7.60s\n",
      "         9     2668297.9502            7.47s\n",
      "        10     2215279.2375            7.54s\n",
      "        20      477126.2843            6.29s\n",
      "        30      224997.6441            5.38s\n",
      "        40      171703.0663            4.68s\n",
      "        50      151097.6157            3.92s\n",
      "        60      136149.1878            3.14s\n",
      "        70      123186.2440            2.36s\n",
      "        80      113783.4332            1.58s\n",
      "        90      107135.0424            0.79s\n",
      "       100      102691.5994            0.00s\n"
     ]
    }
   ],
   "source": [
    "gbr_model.fit(X_train , y_train)\n",
    "y_pred = gbr_model.predict(X_test)\n"
   ]
  },
  {
   "cell_type": "code",
   "execution_count": 190,
   "metadata": {},
   "outputs": [
    {
     "name": "stdout",
     "output_type": "stream",
     "text": [
      "      Iter       Train Loss   Remaining Time \n",
      "         1    13024146.4744            8.74s\n",
      "         2    10625804.5889            7.12s\n"
     ]
    },
    {
     "name": "stderr",
     "output_type": "stream",
     "text": [
      "[Parallel(n_jobs=1)]: Using backend SequentialBackend with 1 concurrent workers.\n"
     ]
    },
    {
     "name": "stdout",
     "output_type": "stream",
     "text": [
      "         3     8679132.0306            7.41s\n",
      "         4     7099452.9354            7.26s\n",
      "         5     5816131.6440            6.83s\n",
      "         6     4770792.9031            6.54s\n",
      "         7     3924723.4902            6.47s\n",
      "         8     3235699.8172            6.26s\n",
      "         9     2676263.7082            6.11s\n",
      "        10     2222191.3045            5.95s\n",
      "        20      468836.7143            5.00s\n",
      "        30      217988.6985            4.28s\n",
      "        40      164082.8527            3.64s\n",
      "        50      143267.9616            3.02s\n",
      "        60      127094.7009            2.42s\n",
      "        70      114964.0715            1.83s\n",
      "        80      102009.2786            1.22s\n",
      "        90       94268.2911            0.61s\n",
      "       100       89625.4615            0.00s\n",
      "      Iter       Train Loss   Remaining Time \n",
      "         1    12988884.2398            5.69s\n",
      "         2    10598033.4269            5.63s\n",
      "         3     8658194.0402            5.58s\n",
      "         4     7083376.8720            5.86s\n",
      "         5     5804354.9566            5.73s\n",
      "         6     4766433.2854            5.63s\n",
      "         7     3919596.8916            5.53s\n",
      "         8     3233912.1762            5.50s\n",
      "         9     2674161.4513            5.46s\n",
      "        10     2219991.1302            5.38s\n",
      "        20      472359.2082            4.77s\n",
      "        30      219096.4711            4.14s\n",
      "        40      163495.0459            3.54s\n",
      "        50      140502.5698            2.95s\n",
      "        60      125583.0094            2.37s\n",
      "        70      116399.5299            1.79s\n",
      "        80      105937.3606            1.20s\n",
      "        90       97996.6463            0.60s\n",
      "       100       91375.8314            0.00s\n",
      "      Iter       Train Loss   Remaining Time \n",
      "         1    12869378.9809            5.64s\n",
      "         2    10500319.1814            5.57s\n",
      "         3     8578428.1022            5.54s\n",
      "         4     7018497.6338            5.84s\n",
      "         5     5751621.9222            5.71s\n",
      "         6     4723578.4666            5.61s\n",
      "         7     3888090.2486            5.52s\n",
      "         8     3206461.3017            5.54s\n",
      "         9     2651530.5090            5.50s\n",
      "        10     2201745.6884            5.42s\n",
      "        20      469485.9924            4.75s\n",
      "        30      219938.4345            4.14s\n",
      "        40      167237.5762            3.53s\n",
      "        50      143291.5280            2.94s\n",
      "        60      128018.7641            2.37s\n",
      "        70      116079.5977            1.79s\n",
      "        80      106473.3388            1.20s\n",
      "        90       99627.4674            0.60s\n",
      "       100       93163.0873            0.00s\n",
      "      Iter       Train Loss   Remaining Time \n",
      "         1    12898128.9361            5.66s\n",
      "         2    10525375.1487            5.59s\n",
      "         3     8599635.4513            5.56s\n",
      "         4     7036302.5549            5.69s\n",
      "         5     5766444.6285            5.60s\n",
      "         6     4734746.0234            5.52s\n",
      "         7     3896545.3439            5.44s\n",
      "         8     3212813.8570            5.47s\n",
      "         9     2659651.0579            5.43s\n",
      "        10     2207434.0828            5.35s\n",
      "        20      468527.7663            4.71s\n",
      "        30      217081.6173            4.13s\n",
      "        40      162629.3518            3.54s\n",
      "        50      140362.0885            2.96s\n",
      "        60      124962.5009            2.37s\n",
      "        70      113035.2728            1.79s\n",
      "        80      103686.5948            1.20s\n",
      "        90       95924.8102            0.60s\n",
      "       100       90600.3771            0.00s\n",
      "      Iter       Train Loss   Remaining Time \n",
      "         1    12892181.6102            5.68s\n",
      "         2    10519243.2583            5.60s\n",
      "         3     8594154.5757            5.56s\n",
      "         4     7030002.2199            5.84s\n",
      "         5     5760699.8184            5.72s\n",
      "         6     4728728.2733            5.62s\n",
      "         7     3890320.8698            5.52s\n",
      "         8     3209143.4938            5.54s\n",
      "         9     2656143.3766            5.50s\n",
      "        10     2203703.0516            5.41s\n",
      "        20      464761.4287            4.71s\n",
      "        30      212274.3203            4.14s\n",
      "        40      157197.2333            3.54s\n",
      "        50      133788.0730            2.95s\n",
      "        60      117861.9667            2.36s\n",
      "        70      106812.9267            1.79s\n",
      "        80       96401.7235            1.20s\n",
      "        90       87896.5613            0.60s\n",
      "       100       82811.0520            0.00s\n",
      "Cross validation score : 0.9821\n",
      "[0.9820708  0.98210848 0.9828506  0.98033878 0.97988363]\n",
      "mae: 261.056835\n",
      "R2: 1.000000\n",
      "mse: 279359.968746\n",
      "rmse: 528.545144\n"
     ]
    },
    {
     "name": "stderr",
     "output_type": "stream",
     "text": [
      "[Parallel(n_jobs=1)]: Done   5 out of   5 | elapsed:   30.5s finished\n"
     ]
    }
   ],
   "source": [
    "cv_score = cross_val_score(estimator=gbr_model, X=X_train, y=y_train, cv=5,verbose = 1)\n",
    "print('Cross validation score : %.4f' % gbr_model.score(X_test, y_test))\n",
    "print(cv_score)\n",
    "mae = mean_absolute_error(y_test, y_pred)\n",
    "print(\"mae: %f\" %(mae))\n",
    "r2 = gbr_model.score(X_test,y_pred)\n",
    "print(\"R2: %f\" %(r2))\n",
    "mse = mean_squared_error(y_test, y_pred)\n",
    "print(\"mse: %f\" %(mse))\n",
    "rmse = (mean_squared_error(y_test, y_pred))**0.5\n",
    "print(\"rmse: %f\" %(rmse))"
   ]
  },
  {
   "cell_type": "code",
   "execution_count": null,
   "metadata": {},
   "outputs": [],
   "source": []
  },
  {
   "cell_type": "code",
   "execution_count": null,
   "metadata": {},
   "outputs": [],
   "source": []
  },
  {
   "cell_type": "code",
   "execution_count": null,
   "metadata": {},
   "outputs": [],
   "source": []
  },
  {
   "cell_type": "code",
   "execution_count": 191,
   "metadata": {},
   "outputs": [],
   "source": [
    "rfr_model = RandomForestRegressor(max_depth=30, min_samples_split=5, n_estimators=200 )\n",
    "rfr_model.fit(X_train, y_train)\n",
    "y_pred = rfr_model.predict(X_test)"
   ]
  },
  {
   "cell_type": "code",
   "execution_count": 144,
   "metadata": {},
   "outputs": [],
   "source": [
    "#random_grid = {'bootstrap': [True, False],\n",
    "               'max_depth': [10, 30, 70],\n",
    "               'max_features': ['auto', 'sqrt'],\n",
    "               'min_samples_leaf': [2, 4, 6],\n",
    "               'min_samples_split': [2, 5],\n",
    "               'n_estimators': [100, 200]}\n",
    "#rfr_random = RandomizedSearchCV(scoring=\"neg_mean_squared_error\", estimator = rfr_model, param_distributions = random_grid, n_iter = 100, cv = 3, verbose=2, random_state=42, n_jobs = -1)"
   ]
  },
  {
   "cell_type": "code",
   "execution_count": 145,
   "metadata": {},
   "outputs": [
    {
     "name": "stdout",
     "output_type": "stream",
     "text": [
      "Fitting 3 folds for each of 100 candidates, totalling 300 fits\n"
     ]
    }
   ],
   "source": [
    "#model = rfr_random.fit(X_train, y_train)"
   ]
  },
  {
   "cell_type": "code",
   "execution_count": 146,
   "metadata": {},
   "outputs": [
    {
     "name": "stdout",
     "output_type": "stream",
     "text": [
      "{'bootstrap': True, 'ccp_alpha': 0.0, 'criterion': 'mse', 'max_depth': 30, 'max_features': 'auto', 'max_leaf_nodes': None, 'max_samples': None, 'min_impurity_decrease': 0.0, 'min_impurity_split': None, 'min_samples_leaf': 4, 'min_samples_split': 5, 'min_weight_fraction_leaf': 0.0, 'n_estimators': 200, 'n_jobs': None, 'oob_score': False, 'random_state': None, 'verbose': 0, 'warm_start': False}\n"
     ]
    }
   ],
   "source": [
    "print(model.best_estimator_.get_params())"
   ]
  },
  {
   "cell_type": "code",
   "execution_count": 192,
   "metadata": {},
   "outputs": [
    {
     "name": "stderr",
     "output_type": "stream",
     "text": [
      "[Parallel(n_jobs=1)]: Using backend SequentialBackend with 1 concurrent workers.\n",
      "[Parallel(n_jobs=1)]: Done   5 out of   5 | elapsed:  1.2min finished\n"
     ]
    },
    {
     "name": "stdout",
     "output_type": "stream",
     "text": [
      "Cross validation score : 0.9819\n",
      "[0.98076046 0.98153496 0.98098354 0.97906926 0.97955158]\n",
      "mae: 264.378208\n",
      "R2: 1.000000\n",
      "mse: 283749.617611\n",
      "rmse: 532.681535\n"
     ]
    }
   ],
   "source": [
    "cv_score = cross_val_score(estimator=rfr_model, X=X_train, y=y_train, cv=5,verbose = 1)\n",
    "print('Cross validation score : %.4f' % rfr_model.score(X_test, y_test))\n",
    "print(cv_score)\n",
    "mae = mean_absolute_error(y_test,y_pred)\n",
    "print(\"mae: %f\" %(mae))\n",
    "r2 = rfr_model.score(X_test,y_pred)\n",
    "print(\"R2: %f\" %(r2))\n",
    "mse = mean_squared_error(y_test,y_pred)\n",
    "print(\"mse: %f\" %(mse))\n",
    "rmse = (mean_squared_error(y_test,y_pred))**0.5\n",
    "print(\"rmse: %f\" %(rmse))"
   ]
  },
  {
   "cell_type": "code",
   "execution_count": null,
   "metadata": {},
   "outputs": [],
   "source": [
    "Cross validation score : 0.9826\n",
    "[0.98149232 0.98167895 0.98121593 0.97904049 0.98002653]\n",
    "mae: 259.216508\n",
    "R2: 1.000000\n",
    "mse: 271734.577583\n",
    "rmse: 521.281668"
   ]
  },
  {
   "cell_type": "code",
   "execution_count": null,
   "metadata": {},
   "outputs": [],
   "source": []
  },
  {
   "cell_type": "code",
   "execution_count": 193,
   "metadata": {},
   "outputs": [],
   "source": [
    "from sklearn.experimental import enable_hist_gradient_boosting\n",
    "from sklearn.ensemble import HistGradientBoostingRegressor"
   ]
  },
  {
   "cell_type": "code",
   "execution_count": 194,
   "metadata": {},
   "outputs": [],
   "source": [
    "hgbr_model = HistGradientBoostingRegressor(max_depth=10, max_iter=200)"
   ]
  },
  {
   "cell_type": "code",
   "execution_count": 195,
   "metadata": {},
   "outputs": [],
   "source": [
    "hgbr_model.fit(X_train, y_train)\n",
    "y_pred = hgbr_model.predict(X_test)"
   ]
  },
  {
   "cell_type": "code",
   "execution_count": 196,
   "metadata": {},
   "outputs": [
    {
     "name": "stderr",
     "output_type": "stream",
     "text": [
      "[Parallel(n_jobs=1)]: Using backend SequentialBackend with 1 concurrent workers.\n"
     ]
    },
    {
     "name": "stdout",
     "output_type": "stream",
     "text": [
      "Cross validation score : 0.9823\n",
      "[0.98142979 0.98218929 0.98289987 0.98047688 0.98044596]\n",
      "mae: 273.640740\n",
      "R2: 1.0000\n",
      "mse: 276887.827974\n",
      "rmse: 526.201319\n"
     ]
    },
    {
     "name": "stderr",
     "output_type": "stream",
     "text": [
      "[Parallel(n_jobs=1)]: Done   5 out of   5 | elapsed:    3.4s finished\n"
     ]
    }
   ],
   "source": [
    "cv_score = cross_val_score(estimator=hgbr_model, X=X_train, y=y_train, cv=5,verbose = 1)\n",
    "print('Cross validation score : %.4f' % hgbr_model.score(X_test, y_test))\n",
    "print(cv_score)\n",
    "mae = mean_absolute_error(y_test, y_pred)\n",
    "print(\"mae: %f\" %(mae))\n",
    "r2 = hgbr_model.score(X_test,y_pred)\n",
    "print(\"R2: %.4f\" %(r2))\n",
    "mse = mean_squared_error(y_test, y_pred)\n",
    "print(\"mse: %f\" %(mse))\n",
    "rmse = (mean_squared_error(y_test, y_pred))**0.5\n",
    "print(\"rmse: %f\" %(rmse))"
   ]
  },
  {
   "cell_type": "code",
   "execution_count": null,
   "metadata": {},
   "outputs": [],
   "source": []
  },
  {
   "cell_type": "code",
   "execution_count": 197,
   "metadata": {},
   "outputs": [],
   "source": [
    "from sklearn.ensemble import ExtraTreesRegressor"
   ]
  },
  {
   "cell_type": "code",
   "execution_count": 198,
   "metadata": {},
   "outputs": [],
   "source": [
    "etr_model = ExtraTreesRegressor()\n",
    "etr_model.fit(X_train, y_train)\n",
    "y_pred = etr_model.predict(X_test)"
   ]
  },
  {
   "cell_type": "code",
   "execution_count": 199,
   "metadata": {},
   "outputs": [
    {
     "name": "stderr",
     "output_type": "stream",
     "text": [
      "[Parallel(n_jobs=1)]: Using backend SequentialBackend with 1 concurrent workers.\n",
      "[Parallel(n_jobs=1)]: Done   5 out of   5 | elapsed:   28.0s finished\n"
     ]
    },
    {
     "name": "stdout",
     "output_type": "stream",
     "text": [
      "Cross validation score : 0.9816\n",
      "[0.98122523 0.98117258 0.98215499 0.98005559 0.97937691]\n",
      "mae: 263.126575\n",
      "R2: 1.0000\n",
      "mse: 288442.871140\n",
      "rmse: 537.068777\n"
     ]
    }
   ],
   "source": [
    "cv_score = cross_val_score(estimator=etr_model, X=X_train, y=y_train, cv=5,verbose = 1)\n",
    "print('Cross validation score : %.4f' % etr_model.score(X_test, y_test))\n",
    "print(cv_score)\n",
    "mae = mean_absolute_error(y_test, y_pred)\n",
    "print(\"mae: %f\" %(mae))\n",
    "r2 = etr_model.score(X_test,y_pred)\n",
    "print(\"R2: %.4f\" %(r2))\n",
    "mse = mean_squared_error(y_test, y_pred)\n",
    "print(\"mse: %f\" %(mse))\n",
    "rmse = (mean_squared_error(y_test, y_pred))**0.5\n",
    "print(\"rmse: %f\" %(rmse))"
   ]
  },
  {
   "cell_type": "code",
   "execution_count": null,
   "metadata": {},
   "outputs": [],
   "source": []
  },
  {
   "cell_type": "code",
   "execution_count": null,
   "metadata": {},
   "outputs": [],
   "source": []
  },
  {
   "cell_type": "code",
   "execution_count": null,
   "metadata": {},
   "outputs": [],
   "source": []
  },
  {
   "cell_type": "code",
   "execution_count": 200,
   "metadata": {},
   "outputs": [],
   "source": [
    "X_predict = X_pred # diamonds_predict[features] if not scaled\n",
    "predictions = hgbr_model.predict(X_predict)\n",
    "diamonds_id = diamonds_predict['id']"
   ]
  },
  {
   "cell_type": "code",
   "execution_count": null,
   "metadata": {},
   "outputs": [],
   "source": []
  },
  {
   "cell_type": "code",
   "execution_count": 201,
   "metadata": {},
   "outputs": [],
   "source": [
    "submission = pd.DataFrame({'id': diamonds_id, 'price': predictions})"
   ]
  },
  {
   "cell_type": "code",
   "execution_count": 202,
   "metadata": {},
   "outputs": [
    {
     "data": {
      "text/plain": [
       "(13485, 2)"
      ]
     },
     "execution_count": 202,
     "metadata": {},
     "output_type": "execute_result"
    }
   ],
   "source": [
    "submission.shape"
   ]
  },
  {
   "cell_type": "code",
   "execution_count": 203,
   "metadata": {},
   "outputs": [],
   "source": [
    "submission.to_csv('hgbr(526).csv', index=False)"
   ]
  }
 ],
 "metadata": {
  "kernelspec": {
   "display_name": "Python [conda env:ironhack_env]",
   "language": "python",
   "name": "conda-env-ironhack_env-py"
  },
  "language_info": {
   "codemirror_mode": {
    "name": "ipython",
    "version": 3
   },
   "file_extension": ".py",
   "mimetype": "text/x-python",
   "name": "python",
   "nbconvert_exporter": "python",
   "pygments_lexer": "ipython3",
   "version": "3.8.5"
  }
 },
 "nbformat": 4,
 "nbformat_minor": 4
}
